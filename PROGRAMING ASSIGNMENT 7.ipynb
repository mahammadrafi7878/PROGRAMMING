{
 "cells": [
  {
   "cell_type": "raw",
   "id": "ae29e4fd",
   "metadata": {},
   "source": [
    "1.Write a Python Program to find sum of array?"
   ]
  },
  {
   "cell_type": "code",
   "execution_count": 7,
   "id": "25551b0d",
   "metadata": {},
   "outputs": [
    {
     "name": "stdout",
     "output_type": "stream",
     "text": [
      "given array is:  [7 5 3 1 4 5 6 9 8 2 5 4 6]\n",
      "the sum of given array is:  65\n"
     ]
    }
   ],
   "source": [
    "import numpy as np\n",
    "array1=np.array([7,5,3,1,4,5,6,9,8,2,5,4,6])\n",
    "print(\"given array is: \",array1)\n",
    "sum=0\n",
    "for i in array1:\n",
    "    sum=sum+i\n",
    "print(\"the sum of given array is: \",sum)"
   ]
  },
  {
   "cell_type": "raw",
   "id": "6f3c2d8b",
   "metadata": {},
   "source": [
    "2.Write a Python Program to find largest element in an array?"
   ]
  },
  {
   "cell_type": "code",
   "execution_count": 13,
   "id": "c0d6223e",
   "metadata": {},
   "outputs": [
    {
     "name": "stdout",
     "output_type": "stream",
     "text": [
      "the given array:  [ 4  5  7  2  1  6  5  8  9  5  4  1  2  3 11  4 45  6]\n",
      "the largest number in given array2 is:  45\n",
      "using maximum function 45\n"
     ]
    }
   ],
   "source": [
    "import numpy as np\n",
    "array2=np.array([4,5,7,2,1,6,5,8,9,5,4,1,2,3,11,4,45,6])\n",
    "print(\"the given array: \",array2)\n",
    "large=array2[0]\n",
    "for i in array2:\n",
    "    if i>large:\n",
    "        large=i\n",
    "print(\"the largest number in given array2 is: \",large)\n",
    "#another method \n",
    "print(\"using maximum function\",array2.max())"
   ]
  },
  {
   "cell_type": "raw",
   "id": "fa1d8584",
   "metadata": {},
   "source": [
    "3.Write a Python Program for array rotation?"
   ]
  },
  {
   "cell_type": "code",
   "execution_count": 20,
   "id": "91418da3",
   "metadata": {},
   "outputs": [
    {
     "name": "stdout",
     "output_type": "stream",
     "text": [
      "the given array3 is:  [7 5 4 8 4 2 1 5 8 6 9 5 6 2 3 5]\n",
      "rotation of array3 is:  [5 3 2 6 5 9 6 8 5 1 2 4 8 4 5 7]\n",
      "rottion of array3 using in built function : <reversed object at 0x000001D3C9A30F10>\n",
      "5,3,2,6,5,9,6,8,5,1,2,4,8,4,5,7,"
     ]
    }
   ],
   "source": [
    "import numpy as np\n",
    "array3=np.array([7,5,4,8,4,2,1,5,8,6,9,5,6,2,3,5])\n",
    "print(\"the given array3 is: \",array3)\n",
    "print(\"rotation of array3 is: \",array3[::-1])\n",
    "#another method\n",
    "print(\"rottion of array3 using in built function :\",reversed(array3))\n",
    "for i in reversed(array3):\n",
    "    print(i,end=',')"
   ]
  },
  {
   "cell_type": "raw",
   "id": "e0e5a8f3",
   "metadata": {},
   "source": [
    "4.Write a Python Program to Split the array and add the first part to the end?"
   ]
  },
  {
   "cell_type": "code",
   "execution_count": 66,
   "id": "66a4b9fa",
   "metadata": {},
   "outputs": [
    {
     "name": "stdout",
     "output_type": "stream",
     "text": [
      "the given array is:  [7 4 1 2 5 9 6 3]\n",
      "after spliting of array:  [array([7, 4, 1, 2]), array([5, 9, 6, 3])]\n",
      "after adding first part to end:  [array([5, 9, 6, 3]), array([7, 4, 1, 2])]\n"
     ]
    }
   ],
   "source": [
    "import numpy as np\n",
    "array4=np.array([7,4,1,2,5,9,6,3])\n",
    "print(\"the given array is: \",array4)\n",
    "new_array=np.array_split(array4,2)\n",
    "print(\"after spliting of array: \",new_array)\n",
    "add_last=new_array[::-1]\n",
    "print(\"after adding first part to end: \",add_last)"
   ]
  },
  {
   "cell_type": "raw",
   "id": "5643b4e1",
   "metadata": {},
   "source": [
    "5.Write a Python Program to check if given array is Monotonic?"
   ]
  },
  {
   "cell_type": "code",
   "execution_count": 78,
   "id": "3ae89c7f",
   "metadata": {},
   "outputs": [
    {
     "name": "stdout",
     "output_type": "stream",
     "text": [
      "given array is :  [4 5 6 1 2 3 7 8]\n",
      "yes it is monotonic\n"
     ]
    }
   ],
   "source": [
    "import numpy as np\n",
    "array5=np.array([4,5,6,1,2,3,7,8])\n",
    "print(\"given array is : \",array5)\n",
    "\n",
    "if array5[i]<=array5[i+1]:  \n",
    "    print(\"yes it is monotonic\")\n",
    "elif array5[i]>=array5[i+1]:\n",
    "    print(\"yes it is monotonic\")\n",
    "else: \n",
    "    print(\"no, it is not a monotonic\")"
   ]
  },
  {
   "cell_type": "code",
   "execution_count": null,
   "id": "3486365b",
   "metadata": {},
   "outputs": [],
   "source": []
  }
 ],
 "metadata": {
  "kernelspec": {
   "display_name": "Python 3 (ipykernel)",
   "language": "python",
   "name": "python3"
  },
  "language_info": {
   "codemirror_mode": {
    "name": "ipython",
    "version": 3
   },
   "file_extension": ".py",
   "mimetype": "text/x-python",
   "name": "python",
   "nbconvert_exporter": "python",
   "pygments_lexer": "ipython3",
   "version": "3.9.7"
  }
 },
 "nbformat": 4,
 "nbformat_minor": 5
}
