{
 "cells": [
  {
   "cell_type": "raw",
   "id": "cc2b73ee",
   "metadata": {},
   "source": [
    "Question 1\n",
    "Create a function that takes a number as an argument and returns True or False depending on whether the number is symmetrical or not. A number is symmetrical when it is the same as its reverse.\n",
    "Examples\n",
    "is_symmetrical(7227) ➞ True\n",
    "\n",
    "is_symmetrical(12567) ➞ False\n",
    "\n",
    "is_symmetrical(44444444) ➞ True\n",
    "\n",
    "is_symmetrical(9939) ➞ False\n",
    "\n",
    "is_symmetrical(1112111) ➞ True\n",
    "\n"
   ]
  },
  {
   "cell_type": "code",
   "execution_count": 17,
   "id": "1fb4acca",
   "metadata": {},
   "outputs": [
    {
     "name": "stdout",
     "output_type": "stream",
     "text": [
      "False\n",
      "True\n",
      "True\n",
      "True\n",
      "False\n",
      "True\n",
      "True\n",
      "True\n"
     ]
    }
   ],
   "source": [
    "def is_symmetrical(num):\n",
    "    num1=str(num)\n",
    "    num2=reversed(num1)\n",
    "    for i in num2:\n",
    "        for  j in num1:\n",
    "            if i==j:\n",
    "                return True\n",
    "            else:\n",
    "                return False\n",
    "print(is_symmetrical(12567))\n",
    "print(is_symmetrical(7227) )\n",
    "print(is_symmetrical(44444444))\n",
    "print(is_symmetrical(1112111))\n",
    "#using slicing technique\n",
    "def is_symmetrical1(num):\n",
    "    num4=str(num)\n",
    "    num5=num4[::-1]\n",
    "    if num4 ==num5:\n",
    "        return True\n",
    "    else:\n",
    "        return False\n",
    "print(is_symmetrical(12567))\n",
    "print(is_symmetrical(7227) )\n",
    "print(is_symmetrical(44444444))\n",
    "print(is_symmetrical(1112111))"
   ]
  },
  {
   "cell_type": "raw",
   "id": "30d4f054",
   "metadata": {},
   "source": [
    "Question 2\n",
    "Given a string of numbers separated by a comma and space, return the product of the numbers.\n",
    "Examples\n",
    "multiply_nums(\"2, 3\") ➞ 6\n",
    "\n",
    "multiply_nums(\"1, 2, 3, 4\") ➞ 24\n",
    "\n",
    "multiply_nums(\"54, 75, 453, 0\") ➞ 0\n",
    "\n",
    "multiply_nums(\"10, -2\") ➞ -20\n"
   ]
  },
  {
   "cell_type": "code",
   "execution_count": 25,
   "id": "d6bda698",
   "metadata": {},
   "outputs": [
    {
     "name": "stdout",
     "output_type": "stream",
     "text": [
      "24\n",
      "6\n",
      "0\n",
      "-20\n"
     ]
    }
   ],
   "source": [
    "def multiply_nums(strn):\n",
    "    strn1=strn.split(', ')\n",
    "    lst1=[]\n",
    "    for i in strn1:\n",
    "        lst1.append(int(i))\n",
    "    mul=1\n",
    "    for i in lst1:\n",
    "        if type(i)==int:\n",
    "            mul=mul*i\n",
    "    return mul\n",
    "print(multiply_nums(\"1, 2, 3, 4\"))\n",
    "print(multiply_nums(\"2, 3\"))\n",
    "print(multiply_nums(\"54, 75, 453, 0\") )\n",
    "print(multiply_nums(\"10, -2\"))"
   ]
  },
  {
   "cell_type": "raw",
   "id": "976245d6",
   "metadata": {},
   "source": [
    "Question 3\n",
    "Create a function that squares every digit of a number.\n",
    "Examples\n",
    "square_digits(9119) ➞ 811181\n",
    "\n",
    "square_digits(2483) ➞ 416649\n",
    "\n",
    "square_digits(3212) ➞ 9414\n",
    "Notes\n",
    "The function receives an integer and must return an integer.\n"
   ]
  },
  {
   "cell_type": "code",
   "execution_count": 49,
   "id": "40590be3",
   "metadata": {},
   "outputs": [
    {
     "name": "stdout",
     "output_type": "stream",
     "text": [
      " 811181\n",
      " 9414\n",
      " 416649\n"
     ]
    }
   ],
   "source": [
    "def square_digits(num):\n",
    "    conv=str(num)\n",
    "    lst1=[]\n",
    "    for i in conv:\n",
    "        lst1.append(int(i)**2)\n",
    "    strn=\" \"\n",
    "    for i in lst1:\n",
    "        strn+=str(i)\n",
    "    return strn\n",
    "print(square_digits(9119))\n",
    "print(square_digits(3212))\n",
    "print(square_digits(2483))"
   ]
  },
  {
   "cell_type": "raw",
   "id": "e3e0acf6",
   "metadata": {},
   "source": [
    "Question 4\n",
    "Create a function that sorts a list and removes all duplicate items from it.\n",
    "Examples\n",
    "setify([1, 3, 3, 5, 5]) ➞ [1, 3, 5]\n",
    "\n",
    "setify([4, 4, 4, 4]) ➞ [4]\n",
    "\n",
    "setify([5, 7, 8, 9, 10, 15]) ➞ [5, 7, 8, 9, 10, 15]\n",
    "\n",
    "setify([3, 3, 3, 2, 1]) ➞ [1, 2, 3]\n"
   ]
  },
  {
   "cell_type": "code",
   "execution_count": 59,
   "id": "172bab6b",
   "metadata": {},
   "outputs": [
    {
     "name": "stdout",
     "output_type": "stream",
     "text": [
      "[1, 3, 5]\n",
      "[4]\n",
      "[5, 7, 8, 9, 10, 15]\n",
      "[1, 2, 3]\n"
     ]
    }
   ],
   "source": [
    "def setify(lst):\n",
    "    lst1=set(lst)\n",
    "    lst2=list(lst1)\n",
    "    return lst2\n",
    "print(setify([1, 3, 3, 5, 5]))\n",
    "print(setify([4, 4, 4, 4]))\n",
    "print(setify([5, 7, 8, 9, 10, 15]))\n",
    "print(setify([3, 3, 3, 2, 1]))"
   ]
  },
  {
   "cell_type": "raw",
   "id": "5f837886",
   "metadata": {},
   "source": [
    "Question 5\n",
    "Create a function that returns the mean of all digits.\n",
    "Examples\n",
    "mean(42) ➞ 3\n",
    "\n",
    "mean(12345) ➞ 3\n",
    "\n",
    "mean(666) ➞ 6\n",
    "Notes\n",
    "•\tThe mean of all digits is the sum of digits / how many digits there are (e.g. mean of digits in 512 is (5+1+2)/3(number of digits) = 8/3=2).\n",
    "•\tThe mean will always be an integer.\n",
    "\n"
   ]
  },
  {
   "cell_type": "code",
   "execution_count": 80,
   "id": "1abf718a",
   "metadata": {},
   "outputs": [
    {
     "name": "stdout",
     "output_type": "stream",
     "text": [
      "3\n",
      "3\n",
      "6\n"
     ]
    }
   ],
   "source": [
    "import math\n",
    "def mean(num):\n",
    "    num1=str(num)\n",
    "    lst3=[]\n",
    "    for i in num1:\n",
    "        lst3.append(i)\n",
    "    n=len(lst3)\n",
    "    tot=0\n",
    "    for i in lst3:\n",
    "        tot=tot+int(i)\n",
    "        result=tot/n\n",
    "    return result\n",
    "    \n",
    "        \n",
    "print(math.trunc(mean(12345)))\n",
    "print(math.trunc(mean(42)))\n",
    "print(math.trunc(mean(666) ))\n"
   ]
  },
  {
   "cell_type": "code",
   "execution_count": null,
   "id": "a3607a83",
   "metadata": {},
   "outputs": [],
   "source": []
  }
 ],
 "metadata": {
  "kernelspec": {
   "display_name": "Python 3 (ipykernel)",
   "language": "python",
   "name": "python3"
  },
  "language_info": {
   "codemirror_mode": {
    "name": "ipython",
    "version": 3
   },
   "file_extension": ".py",
   "mimetype": "text/x-python",
   "name": "python",
   "nbconvert_exporter": "python",
   "pygments_lexer": "ipython3",
   "version": "3.9.7"
  }
 },
 "nbformat": 4,
 "nbformat_minor": 5
}
