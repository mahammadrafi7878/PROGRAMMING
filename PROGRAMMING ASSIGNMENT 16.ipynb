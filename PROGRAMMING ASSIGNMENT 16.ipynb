{
 "cells": [
  {
   "cell_type": "raw",
   "id": "3ec8059f",
   "metadata": {},
   "source": [
    "Question1. Write a function that stutters a word as if someone is struggling to read it. The first two letters are repeated twice with an ellipsis ... and space after each, and then the word is pronounced with a question mark ?.\n",
    "Examples\n",
    "stutter(\"incredible\") ➞ \"in... in... incredible?\"\n",
    "\n",
    "stutter(\"enthusiastic\") ➞ \"en... en... enthusiastic?\"\n",
    "\n",
    "stutter(\"outstanding\") ➞ \"ou... ou... outstanding?\"\n",
    "\n",
    "Hint :-Assume all input is in lower case and at least two characters long.\n"
   ]
  },
  {
   "cell_type": "code",
   "execution_count": 3,
   "id": "40a9ae95",
   "metadata": {},
   "outputs": [
    {
     "name": "stdout",
     "output_type": "stream",
     "text": [
      "ou ...  ou ...  outstanding ?\n",
      "None\n",
      "in ...  in ...  incredible ?\n",
      "None\n",
      "en ...  en ...  enthusiastic ?\n",
      "None\n"
     ]
    }
   ],
   "source": [
    "def stutter(x):\n",
    "    line=x.lower()\n",
    "    if len(line)<2:\n",
    "        print(\"the length of line should be atleast two\")\n",
    "    else:\n",
    "        print(line[0:2],\"... \",line[0:2],\"... \",line,\"?\" )\n",
    "print(stutter(\"outstanding\"))\n",
    "print(stutter(\"incredible\"))\n",
    "print(stutter(\"enthusiastic\"))"
   ]
  },
  {
   "cell_type": "raw",
   "id": "a308472d",
   "metadata": {},
   "source": [
    "Question 2.Create a function that takes an angle in radians and returns the corresponding angle in degrees rounded to one decimal place.\n",
    "Examples\n",
    "radians_to_degrees(1) ➞ 57.3\n",
    "\n",
    "radians_to_degrees(20) ➞ 1145.9\n",
    "\n",
    "radians_to_degrees(50) ➞ 2864.8\n",
    "\n"
   ]
  },
  {
   "cell_type": "code",
   "execution_count": 7,
   "id": "9ef5a474",
   "metadata": {},
   "outputs": [
    {
     "name": "stdout",
     "output_type": "stream",
     "text": [
      "enter your angle in radians to find degress 5\n",
      "286.5\n",
      "57.3\n",
      "1146.0\n",
      "2865.0\n"
     ]
    }
   ],
   "source": [
    "def radians_to_degrees(x):\n",
    "    result=round(x*57.3,1)\n",
    "    return result\n",
    "k=int(input(\"enter your angle in radians to find degress \"))\n",
    "print(radians_to_degrees(k))\n",
    "print(radians_to_degrees(1))\n",
    "print(radians_to_degrees(20))\n",
    "print(radians_to_degrees(50))"
   ]
  },
  {
   "cell_type": "raw",
   "id": "abdf9256",
   "metadata": {},
   "source": [
    "Question 3. In this challenge, establish if a given integer num is a Curzon number. If 1 plus 2 elevated to num is exactly divisible by 1 plus 2 multiplied by num, then num is a Curzon number.\n",
    "Given a non-negative integer num, implement a function that returns True if num is a Curzon number, or False otherwise.\n",
    "Examples\n",
    "is_curzon(5) ➞ True\n",
    "# 2 ** 5 + 1 = 33\n",
    "# 2 * 5 + 1 = 11\n",
    "# 33 is a multiple of 11\n",
    "\n",
    "is_curzon(10) ➞ False\n",
    "# 2 ** 10 + 1 = 1025\n",
    "# 2 * 10 + 1 = 21\n",
    "# 1025 is not a multiple of 21\n",
    "\n",
    "is_curzon(14) ➞ True\n",
    "# 2 ** 14 + 1 = 16385\n",
    "# 2 * 14 + 1 = 29\n",
    "# 16385 is a multiple of 29\n"
   ]
  },
  {
   "cell_type": "code",
   "execution_count": 38,
   "id": "dacc0b70",
   "metadata": {},
   "outputs": [
    {
     "name": "stdout",
     "output_type": "stream",
     "text": [
      "False,the given number  10 is not curzon\n",
      "True, the given number  5 is curzon\n",
      "True, the given number  14 is curzon\n"
     ]
    }
   ],
   "source": [
    "def is_curzon(n):\n",
    "    num1=(2**n)+1\n",
    "    num2=(2*n)+1\n",
    "    num3=num1%num2\n",
    "    count=0\n",
    "    if num3==0:\n",
    "        count=count+1\n",
    "        if count>0:\n",
    "            print(\"True, the given number \",n,\"is curzon\")\n",
    "        else:\n",
    "            print(\"False,the given number \",n,\"is not curzon \")\n",
    "    else:\n",
    "        print(\"False,the given number \",n,\"is not curzon\")\n",
    "is_curzon(10)\n",
    "is_curzon(5)\n",
    "is_curzon(14)"
   ]
  },
  {
   "cell_type": "raw",
   "id": "88be61ff",
   "metadata": {},
   "source": [
    "Question 4.Given the side length x find the area of a hexagon.\n",
    " \n",
    "Examples\n",
    "area_of_hexagon(1) ➞ 2.6\n",
    "\n",
    "area_of_hexagon(2) ➞ 10.4\n",
    "\n",
    "area_of_hexagon(3) ➞ 23.4\n",
    "\n"
   ]
  },
  {
   "cell_type": "code",
   "execution_count": 53,
   "id": "dd7a28f2",
   "metadata": {},
   "outputs": [
    {
     "name": "stdout",
     "output_type": "stream",
     "text": [
      "2.6\n",
      "10.4\n",
      "23.4\n"
     ]
    }
   ],
   "source": [
    "import math\n",
    "def area_of_hexagon(l):\n",
    "    area=((math.sqrt(3)*3)*(l**2))/2\n",
    "    return area\n",
    "print(round(area_of_hexagon(1),1))\n",
    "print(round(area_of_hexagon(2),1))\n",
    "print(round(area_of_hexagon(3),1))"
   ]
  },
  {
   "cell_type": "raw",
   "id": "bb267c93",
   "metadata": {},
   "source": [
    "Question 5.Create a function that returns a base-2 (binary) representation of a base-10 (decimal) string number. To convert is simple: ((2) means base-2 and (10) means base-10) 010101001(2) = 1 + 8 + 32 + 128.\n",
    "Going from right to left, the value of the most right bit is 1, now from that every bit to the left will be x2 the value, value of an 8 bit binary numbers are (256, 128, 64, 32, 16, 8, 4, 2, 1).\n",
    "Examples\n",
    "binary(1) ➞ \"1\"\n",
    "# 1*1 = 1\n",
    "\n",
    "binary(5) ➞ \"101\"\n",
    "# 1*1 + 1*4 = 5\n",
    "\n",
    "binary(10) ➞ \"1010\"\n",
    "# 1*2 + 1*8 = 10\n"
   ]
  },
  {
   "cell_type": "code",
   "execution_count": 9,
   "id": "6fb6846a",
   "metadata": {},
   "outputs": [
    {
     "name": "stdout",
     "output_type": "stream",
     "text": [
      "0b1010\n",
      "0b101\n"
     ]
    }
   ],
   "source": [
    "def binary_conversion(x):\n",
    "    result=bin(x)\n",
    "    return result\n",
    "print(binary_conversion(10))\n",
    "print(binary_conversion(5))"
   ]
  },
  {
   "cell_type": "code",
   "execution_count": null,
   "id": "72968f18",
   "metadata": {},
   "outputs": [],
   "source": []
  }
 ],
 "metadata": {
  "kernelspec": {
   "display_name": "Python 3 (ipykernel)",
   "language": "python",
   "name": "python3"
  },
  "language_info": {
   "codemirror_mode": {
    "name": "ipython",
    "version": 3
   },
   "file_extension": ".py",
   "mimetype": "text/x-python",
   "name": "python",
   "nbconvert_exporter": "python",
   "pygments_lexer": "ipython3",
   "version": "3.9.7"
  }
 },
 "nbformat": 4,
 "nbformat_minor": 5
}
