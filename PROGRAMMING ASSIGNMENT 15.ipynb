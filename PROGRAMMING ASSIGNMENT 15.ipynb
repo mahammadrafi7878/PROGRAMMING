{
 "cells": [
  {
   "cell_type": "raw",
   "id": "b80e4b45",
   "metadata": {},
   "source": [
    "Question 1:\n",
    "Please write a program using generator to print the numbers which can be divisible by 5 and 7 between 0 and n in comma separated form while n is input by console.\n",
    "Example:\n",
    "If the following n is given as input to the program:\n",
    "100\n",
    "Then, the output of the program should be:\n",
    "0,35,70\n"
   ]
  },
  {
   "cell_type": "code",
   "execution_count": 7,
   "id": "36813cbb",
   "metadata": {},
   "outputs": [
    {
     "name": "stdout",
     "output_type": "stream",
     "text": [
      "enter your range: 1000\n",
      "0,35,70,105,140,175,210,245,280,315,350,385,420,455,490,525,560,595,630,665,700,735,770,805,840,875,910,945,980,"
     ]
    }
   ],
   "source": [
    "def division(n):\n",
    "    for i in range(0,n):\n",
    "        if i % 5==0 and i%7 ==0:\n",
    "            yield i\n",
    "n=int(input(\"enter your range: \"))\n",
    "division(n)\n",
    "for i in division(n):\n",
    "    print(i,end=',')"
   ]
  },
  {
   "cell_type": "raw",
   "id": "dfcfdfc9",
   "metadata": {},
   "source": [
    "Question 2:\n",
    "Please write a program using generator to print the even numbers between 0 and n in comma separated form while n is input by console.\n",
    "Example:\n",
    "If the following n is given as input to the program:\n",
    "10\n",
    "Then, the output of the program should be:\n",
    "0,2,4,6,8,10\n"
   ]
  },
  {
   "cell_type": "code",
   "execution_count": 8,
   "id": "9268516e",
   "metadata": {},
   "outputs": [
    {
     "name": "stdout",
     "output_type": "stream",
     "text": [
      "enter your range: 50\n",
      "0,2,4,6,8,10,12,14,16,18,20,22,24,26,28,30,32,34,36,38,40,42,44,46,48,"
     ]
    }
   ],
   "source": [
    "def even_numbers(n):\n",
    "    for i in range(0,n):\n",
    "        if i%2==0:\n",
    "            yield i\n",
    "n=int(input(\"enter your range: \"))\n",
    "for i in even_numbers(n):\n",
    "    print(i,end=',')"
   ]
  },
  {
   "cell_type": "raw",
   "id": "2052c865",
   "metadata": {},
   "source": [
    "Question 3:\n",
    "The Fibonacci Sequence is computed based on the following formula:\n",
    "f(n)=0 if n=0\n",
    "f(n)=1 if n=1\n",
    "f(n)=f(n-1)+f(n-2) if n>1\n",
    "Please write a program using list comprehension to print the Fibonacci Sequence in comma separated form with a given n input by console.\n",
    "Example:\n",
    "If the following n is given as input to the program:\n",
    "7\n",
    "\n",
    "Then, the output of the program should be:\n",
    "0,1,1,2,3,5,8,13\n"
   ]
  },
  {
   "cell_type": "code",
   "execution_count": 56,
   "id": "0c207f71",
   "metadata": {},
   "outputs": [
    {
     "name": "stdout",
     "output_type": "stream",
     "text": [
      "enter your number to find fibonacci: 7\n",
      "0,1,1,2,3,5,8,enter your number for fibonacci series: 6\n",
      "0,1,1,2,3,5,8,13,"
     ]
    }
   ],
   "source": [
    "n=int(input(\"enter your number to find fibonacci: \"))\n",
    "n1,n2=0,1\n",
    "count=0\n",
    "if n<0:\n",
    "    print(\"please enter positive numbers only: \")\n",
    "elif n==0:\n",
    "    print(\"for given number fibonacci is \",n)\n",
    "elif n==1:\n",
    "    print(\"for given number fibonacci is \",n)\n",
    "else:\n",
    "    while count<n:\n",
    "        print(n1,end=',')\n",
    "        nth=n1+n2\n",
    "        n1=n2\n",
    "        n2=nth\n",
    "        count=count+1\n",
    "#using list comprehension\n",
    "n=int(input(\"enter your number for fibonacci series: \"))\n",
    "my_list=[0,1]\n",
    "x=[my_list.append(my_list[-2]+my_list[-1]) for n in range(n)]\n",
    "for i in my_list:\n",
    "    print(i,end=',')\n",
    "    \n",
    "    "
   ]
  },
  {
   "cell_type": "raw",
   "id": "3ec2f366",
   "metadata": {},
   "source": [
    "Question 4:\n",
    "Assuming that we have some email addresses in the \"username@companyname.com\" format, please write program to print the user name of a given email address. Both user names and company names are composed of letters only.\n",
    "Example:\n",
    "If the following email address is given as input to the program:\n",
    "john@google.com\n",
    "Then, the output of the program should be:\n",
    "john\n"
   ]
  },
  {
   "cell_type": "code",
   "execution_count": 97,
   "id": "0e0c9857",
   "metadata": {},
   "outputs": [
    {
     "name": "stdout",
     "output_type": "stream",
     "text": [
      "enter your email : john@google.com\n",
      "john"
     ]
    }
   ],
   "source": [
    "email=input(\"enter your email : \")\n",
    "i=0\n",
    "while i <len(email):\n",
    "    if email[i]=='@':\n",
    "        break\n",
    "    print(email[i],end='')\n",
    "    i=i+1\n"
   ]
  },
  {
   "cell_type": "raw",
   "id": "6e294fd6",
   "metadata": {},
   "source": [
    "Question 5:\n",
    "Define a class named Shape and its subclass Square. The Square class has an init function which takes a length as argument. Both classes have a area function which can print the area of the shape where Shape's area is 0 by default.\n"
   ]
  },
  {
   "cell_type": "code",
   "execution_count": 99,
   "id": "bd7fa420",
   "metadata": {},
   "outputs": [],
   "source": [
    "class Shape:\n",
    "    def area(self):\n",
    "        print(\"Shapes area is 0 \")\n",
    "class Square(Shape):\n",
    "    def __init__(self,shape):\n",
    "        self.length=length\n",
    "    def area(self):\n",
    "        print(\"Shapes area is 0 \")"
   ]
  },
  {
   "cell_type": "code",
   "execution_count": null,
   "id": "8c26f0be",
   "metadata": {},
   "outputs": [],
   "source": []
  }
 ],
 "metadata": {
  "kernelspec": {
   "display_name": "Python 3 (ipykernel)",
   "language": "python",
   "name": "python3"
  },
  "language_info": {
   "codemirror_mode": {
    "name": "ipython",
    "version": 3
   },
   "file_extension": ".py",
   "mimetype": "text/x-python",
   "name": "python",
   "nbconvert_exporter": "python",
   "pygments_lexer": "ipython3",
   "version": "3.9.7"
  }
 },
 "nbformat": 4,
 "nbformat_minor": 5
}
