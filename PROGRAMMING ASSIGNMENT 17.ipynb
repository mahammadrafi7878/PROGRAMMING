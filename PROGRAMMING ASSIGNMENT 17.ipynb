{
 "cells": [
  {
   "cell_type": "raw",
   "id": "8d40f022",
   "metadata": {},
   "source": [
    "Question1. Create a function that takes three arguments a, b, c and returns the sum of the numbers that are evenly divided by c from the range a, b inclusive.\n",
    "Examples\n",
    "evenly_divisible(1, 10, 20) ➞ 0\n",
    "# No number between 1 and 10 can be evenly divided by 20.\n",
    "\n",
    "evenly_divisible(1, 10, 2) ➞ 30\n",
    "# 2 + 4 + 6 + 8 + 10 = 30\n",
    "\n",
    "evenly_divisible(1, 10, 3) ➞ 18\n",
    "# 3 + 6 + 9 = 18\n",
    "\n"
   ]
  },
  {
   "cell_type": "code",
   "execution_count": 20,
   "id": "192fa240",
   "metadata": {},
   "outputs": [
    {
     "name": "stdout",
     "output_type": "stream",
     "text": [
      "[]\n",
      "0\n",
      "None\n",
      "[2, 4, 6, 8]\n",
      "20\n",
      "None\n",
      "[3, 6, 9]\n",
      "18\n",
      "None\n"
     ]
    }
   ],
   "source": [
    "def evenly_divisible(a,b,c):\n",
    "    l=[]\n",
    "    for i in range(a,b):\n",
    "        if i%c ==0:\n",
    "            l.append(i)\n",
    "    print(l)\n",
    "    count=0\n",
    "    for j in l:\n",
    "        count=count+j\n",
    "    print(count)\n",
    "print(evenly_divisible(1, 10, 20))\n",
    "print(evenly_divisible(1, 10, 2))\n",
    "print(evenly_divisible(1, 10, 3))"
   ]
  },
  {
   "cell_type": "raw",
   "id": "fd3431ff",
   "metadata": {},
   "source": [
    "Question2.Create a function that returns True if a given inequality expression is correct and False otherwise.\n",
    "Examples\n",
    "correct_signs(\"3 < 7 < 11\") ➞ True\n",
    "\n",
    "correct_signs(\"13 > 44 > 33 > 1\") ➞ False\n",
    "\n",
    "correct_signs(\"1 < 2 < 6 < 9 > 3\") ➞ True\n"
   ]
  },
  {
   "cell_type": "code",
   "execution_count": 2,
   "id": "01ee55bc",
   "metadata": {},
   "outputs": [
    {
     "name": "stdout",
     "output_type": "stream",
     "text": [
      "True\n",
      "False\n",
      "True\n"
     ]
    }
   ],
   "source": [
    "def correct_signs(s):\n",
    "    regex=eval(s)\n",
    "    if regex:\n",
    "        return \"True\"\n",
    "    else:\n",
    "        return \"False\"\n",
    "print(correct_signs(\"3 < 7 < 11\"))\n",
    "print(correct_signs(\"13 > 44 > 33 > 1\"))\n",
    "print(correct_signs(\"1 < 2 < 6 < 9 > 3\"))"
   ]
  },
  {
   "cell_type": "raw",
   "id": "b0051620",
   "metadata": {},
   "source": [
    "Question3.Create a function that replaces all the vowels in a string with a specified character.\n",
    "Examples\n",
    "replace_vowels(\"the aardvark\", \"#\") ➞ \"th# ##rdv#rk\"\n",
    "\n",
    "replace_vowels(\"minnie mouse\", \"?\") ➞ \"m?nn?? m??s?\"\n",
    "\n",
    "replace_vowels(\"shakespeare\", \"*\") ➞ \"sh*k*sp**r*\"\n",
    "\n"
   ]
  },
  {
   "cell_type": "code",
   "execution_count": 63,
   "id": "6dc8f333",
   "metadata": {},
   "outputs": [
    {
     "name": "stdout",
     "output_type": "stream",
     "text": [
      "th# ##rdv#rk\n",
      "m?nn?? m??s?\n",
      "sh*k*sp**r*\n"
     ]
    }
   ],
   "source": [
    "def replace_vowels1(word,rep):\n",
    "    vowels=\"aeiouAEIOU\"\n",
    "    for i in vowels:\n",
    "        word=word.replace(i,rep)\n",
    "    return word\n",
    "print(replace_vowels1(\"the aardvark\", \"#\") )\n",
    "print(replace_vowels1(\"minnie mouse\", \"?\"))\n",
    "print(replace_vowels1(\"shakespeare\", \"*\"))"
   ]
  },
  {
   "cell_type": "raw",
   "id": "513746a2",
   "metadata": {},
   "source": [
    "Question4.Write a function that calculates the factorial of a number recursively.\n",
    "Examples\n",
    "factorial(5) ➞ 120\n",
    "\n",
    "factorial(3) ➞ 6\n",
    "\n",
    "factorial(1) ➞ 1\n",
    "\n",
    "factorial(0) ➞ 1\n"
   ]
  },
  {
   "cell_type": "code",
   "execution_count": 4,
   "id": "f315d4da",
   "metadata": {},
   "outputs": [
    {
     "name": "stdout",
     "output_type": "stream",
     "text": [
      "1\n",
      "1\n",
      "2\n",
      "6\n",
      "24\n",
      "120\n"
     ]
    }
   ],
   "source": [
    "def factorial(n):\n",
    "    if n<0:\n",
    "        print(\"please enter positive numbers only\")\n",
    "    elif n==0 or n==1:\n",
    "        return 1\n",
    "    else:\n",
    "        return n*factorial(n-1)\n",
    "print(factorial(1))\n",
    "print(factorial(0))\n",
    "print(factorial(2))\n",
    "print(factorial(3))\n",
    "print(factorial(4))\n",
    "print(factorial(5))"
   ]
  },
  {
   "cell_type": "raw",
   "id": "c061baa3",
   "metadata": {},
   "source": [
    "Question 5\n",
    "Hamming distance is the number of characters that differ between two strings.\n",
    "To illustrate:\n",
    "String1: \"abcbba\"\n",
    "String2: \"abcbda\"\n",
    "\n",
    "Hamming Distance: 1 - \"b\" vs. \"d\" is the only difference.\n",
    "Create a function that computes the hamming distance between two strings.\n",
    "Examples\n",
    "hamming_distance(\"abcde\", \"bcdef\") ➞ 5\n",
    "\n",
    "hamming_distance(\"abcde\", \"abcde\") ➞ 0\n",
    "\n",
    "hamming_distance(\"strong\", \"strung\") ➞ 1\n",
    "\n",
    "\n"
   ]
  },
  {
   "cell_type": "code",
   "execution_count": 18,
   "id": "f8d5d141",
   "metadata": {},
   "outputs": [
    {
     "name": "stdout",
     "output_type": "stream",
     "text": [
      "1\n",
      "0\n",
      "5\n"
     ]
    }
   ],
   "source": [
    "def hamming_distance(a,b):\n",
    "    count=0\n",
    "    i=0\n",
    "    j=0\n",
    "    while i<len(a):\n",
    "        while j<len(b):\n",
    "            if a[i] != b[j]:\n",
    "                count=count+1\n",
    "            i=i+1\n",
    "            j=j+1\n",
    "    return count\n",
    "print(hamming_distance(\"strong\", \"strung\"))\n",
    "print(hamming_distance(\"abcde\", \"abcde\"))\n",
    "print(hamming_distance(\"abcde\", \"bcdef\"))"
   ]
  },
  {
   "cell_type": "code",
   "execution_count": null,
   "id": "de5d5f05",
   "metadata": {},
   "outputs": [],
   "source": []
  },
  {
   "cell_type": "code",
   "execution_count": null,
   "id": "8bfe873d",
   "metadata": {},
   "outputs": [],
   "source": []
  }
 ],
 "metadata": {
  "kernelspec": {
   "display_name": "Python 3 (ipykernel)",
   "language": "python",
   "name": "python3"
  },
  "language_info": {
   "codemirror_mode": {
    "name": "ipython",
    "version": 3
   },
   "file_extension": ".py",
   "mimetype": "text/x-python",
   "name": "python",
   "nbconvert_exporter": "python",
   "pygments_lexer": "ipython3",
   "version": "3.9.7"
  }
 },
 "nbformat": 4,
 "nbformat_minor": 5
}
