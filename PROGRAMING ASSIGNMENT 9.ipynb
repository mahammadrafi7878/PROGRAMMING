{
 "cells": [
  {
   "cell_type": "raw",
   "id": "3df8a2ae",
   "metadata": {},
   "source": [
    "1.Write a Python program to check if the given number is a Disarium Number?"
   ]
  },
  {
   "cell_type": "code",
   "execution_count": 2,
   "id": "0ae640f5",
   "metadata": {},
   "outputs": [
    {
     "name": "stdout",
     "output_type": "stream",
     "text": [
      "Please enter a number: 135\n",
      "Given number 135  is a Disarium number\n"
     ]
    }
   ],
   "source": [
    "import math\n",
    "number=int(input(\"Please enter a number: \"))\n",
    "order=len(str(number))\n",
    "sum=0\n",
    "temp=number\n",
    "while temp!=0:\n",
    "    place=temp%10\n",
    "    sum = (int) (sum + math.pow(place,order))\n",
    "    order=order-1\n",
    "    temp=temp//10\n",
    "if sum==number:\n",
    "    print(\"Given number\",number,\" is a Disarium number\")\n",
    "else:\n",
    "    print(\"Given number\",number,\"is not Disarium number\")"
   ]
  },
  {
   "cell_type": "raw",
   "id": "af004ece",
   "metadata": {},
   "source": [
    "2.Write a Python program to print all disarium numbers between 1 to 100?"
   ]
  },
  {
   "cell_type": "code",
   "execution_count": 3,
   "id": "b675b08b",
   "metadata": {},
   "outputs": [
    {
     "name": "stdout",
     "output_type": "stream",
     "text": [
      "0 is a Disarium number\n",
      "89 is a Disarium number\n"
     ]
    }
   ],
   "source": [
    "import math\n",
    "for i in range(0,101):\n",
    "    order=len(str(i))\n",
    "    sum=i\n",
    "    temp=i\n",
    "    while sum>9:\n",
    "        sum=0\n",
    "    while temp!=0:\n",
    "        place=temp%10\n",
    "        sum = (int) (sum + math.pow(place,order))\n",
    "        order=order-1\n",
    "        temp=temp//10\n",
    "    if sum==i:\n",
    "        print(i,\"is a Disarium number\")"
   ]
  },
  {
   "cell_type": "raw",
   "id": "f8902285",
   "metadata": {},
   "source": [
    "3.Write a Python program to check if the given number is Happy Number?"
   ]
  },
  {
   "cell_type": "code",
   "execution_count": 8,
   "id": "7fd6a8ed",
   "metadata": {},
   "outputs": [
    {
     "name": "stdout",
     "output_type": "stream",
     "text": [
      "enter your number: 45\n",
      "your number is not a happy number\n"
     ]
    }
   ],
   "source": [
    "number=int(input(\"enter your number: \"))\n",
    "if number==1 or number==7:\n",
    "    print(number,\"is a happy number\")\n",
    "sum=number\n",
    "temp=number\n",
    "while sum>9:\n",
    "    sum=0\n",
    "    while temp>0:\n",
    "        place=temp%10\n",
    "        sum += place*place\n",
    "        temp=int(temp//10)\n",
    "    temp=sum\n",
    "    if sum==1 or sum==7:\n",
    "        print(\"your entered number\",number,\"is happy number\")\n",
    "else:\n",
    "    print(\"your number is not a happy number\")\n",
    " \n",
    "    "
   ]
  },
  {
   "cell_type": "raw",
   "id": "37c3ba57",
   "metadata": {},
   "source": [
    "4.Write a Python program to print all happy numbers between 1 and 100?"
   ]
  },
  {
   "cell_type": "code",
   "execution_count": 13,
   "id": "481cfd78",
   "metadata": {},
   "outputs": [
    {
     "name": "stdout",
     "output_type": "stream",
     "text": [
      "1 is a happy number\n",
      "7 is a happy number\n",
      "10 is happy number\n",
      "13 is happy number\n",
      "19 is happy number\n",
      "23 is happy number\n",
      "28 is happy number\n",
      "31 is happy number\n",
      "32 is happy number\n",
      "44 is happy number\n",
      "49 is happy number\n",
      "68 is happy number\n",
      "70 is happy number\n",
      "79 is happy number\n",
      "82 is happy number\n",
      "86 is happy number\n",
      "91 is happy number\n",
      "94 is happy number\n",
      "97 is happy number\n",
      "100 is happy number\n"
     ]
    }
   ],
   "source": [
    "for i in range(0,101):\n",
    "    if i==1 or i==7:\n",
    "        print(i,\"is a happy number\")\n",
    "    sum=i\n",
    "    temp=i\n",
    "    while sum>9:\n",
    "        sum=0\n",
    "        while temp>0:\n",
    "            place=temp%10\n",
    "            sum += place*place\n",
    "            temp=int(temp//10)\n",
    "        temp=sum\n",
    "        if sum==1 or sum==7:\n",
    "            print(i,\"is happy number\")\n",
    "\n",
    " \n",
    "    "
   ]
  },
  {
   "cell_type": "raw",
   "id": "e4e78d64",
   "metadata": {},
   "source": [
    " 5.\tWrite a Python program to determine whether the given number is a Harshad Number?"
   ]
  },
  {
   "cell_type": "code",
   "execution_count": 23,
   "id": "f901895e",
   "metadata": {},
   "outputs": [
    {
     "name": "stdout",
     "output_type": "stream",
     "text": [
      "enter your number: 456\n",
      "your number not harshad number\n"
     ]
    }
   ],
   "source": [
    "number=int(input('enter your number: '))\n",
    "sum=0\n",
    "temp=number\n",
    "while temp>0:\n",
    "    sum=sum+temp%10\n",
    "    temp=temp//10\n",
    "if number%sum==0:\n",
    "    print(\"your number is harshad number\")\n",
    "else:\n",
    "    print(\"your number not harshad number\")"
   ]
  },
  {
   "cell_type": "raw",
   "id": "658de8d8",
   "metadata": {},
   "source": [
    "6.Write a Python program to print all pronic numbers between 1 and 100?"
   ]
  },
  {
   "cell_type": "code",
   "execution_count": 30,
   "id": "750f0111",
   "metadata": {},
   "outputs": [
    {
     "name": "stdout",
     "output_type": "stream",
     "text": [
      "0 is a pronic number\n",
      "2 is a pronic number\n",
      "6 is a pronic number\n",
      "12 is a pronic number\n",
      "20 is a pronic number\n",
      "30 is a pronic number\n",
      "42 is a pronic number\n",
      "56 is a pronic number\n",
      "72 is a pronic number\n",
      "90 is a pronic number\n"
     ]
    }
   ],
   "source": [
    "import math\n",
    "for x in range(0,101):\n",
    "    i=0\n",
    "    while (i<=(int)(math.sqrt(x))):\n",
    "        if (x==i*(i+1)):\n",
    "            print(x,\"is a pronic number\")\n",
    "        i=i+1\n",
    "        "
   ]
  },
  {
   "cell_type": "code",
   "execution_count": null,
   "id": "e6c829c0",
   "metadata": {},
   "outputs": [],
   "source": []
  },
  {
   "cell_type": "code",
   "execution_count": null,
   "id": "4da46f44",
   "metadata": {},
   "outputs": [],
   "source": []
  }
 ],
 "metadata": {
  "kernelspec": {
   "display_name": "Python 3 (ipykernel)",
   "language": "python",
   "name": "python3"
  },
  "language_info": {
   "codemirror_mode": {
    "name": "ipython",
    "version": 3
   },
   "file_extension": ".py",
   "mimetype": "text/x-python",
   "name": "python",
   "nbconvert_exporter": "python",
   "pygments_lexer": "ipython3",
   "version": "3.9.7"
  }
 },
 "nbformat": 4,
 "nbformat_minor": 5
}
