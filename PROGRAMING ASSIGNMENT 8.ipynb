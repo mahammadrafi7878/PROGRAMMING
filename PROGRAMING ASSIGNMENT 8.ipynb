{
 "cells": [
  {
   "cell_type": "raw",
   "id": "33418b82",
   "metadata": {},
   "source": [
    "1.Write a Python Program to Add Two Matrices?"
   ]
  },
  {
   "cell_type": "code",
   "execution_count": 6,
   "id": "d229565c",
   "metadata": {},
   "outputs": [
    {
     "name": "stdout",
     "output_type": "stream",
     "text": [
      "first matrice is:  [[1 5 9 8]\n",
      " [7 5 3 2]]\n",
      "second matrice is: [[1 2 3 4]]\n",
      "the sum of two matrices is :  [[ 2  7 12 12]\n",
      " [ 8  7  6  6]]\n"
     ]
    }
   ],
   "source": [
    "import numpy as np\n",
    "matrice1=np.array([[1,5,9,8],[7,5,3,2]])\n",
    "matrice2=np.array([1,2,3,4],ndmin=2)\n",
    "print(\"first matrice is: \",matrice1)\n",
    "print(\"second matrice is:\",matrice2)\n",
    "sum_matrice=matrice1+matrice2\n",
    "print(\"the sum of two matrices is : \",sum_matrice)"
   ]
  },
  {
   "cell_type": "code",
   "execution_count": null,
   "id": "2dae6d7f",
   "metadata": {},
   "outputs": [],
   "source": [
    "2.Write a Python Program to Multiply Two Matrices?"
   ]
  },
  {
   "cell_type": "code",
   "execution_count": 11,
   "id": "662e1e62",
   "metadata": {},
   "outputs": [
    {
     "name": "stdout",
     "output_type": "stream",
     "text": [
      "first matrice is:  [[1 5]\n",
      " [7 5]]\n",
      "second matrice is: [[1 2 7 9]\n",
      " [4 7 5 4]]\n",
      "the multiplication of two matrices is :  [[21 37 32 29]\n",
      " [27 49 74 83]]\n"
     ]
    }
   ],
   "source": [
    "import numpy as np\n",
    "matrice1=np.array([[1,5],[7,5]])\n",
    "matrice2=np.array([[1,2,7,9],[4,7,5,4]])\n",
    "print(\"first matrice is: \",matrice1)\n",
    "print(\"second matrice is:\",matrice2)\n",
    "mul_matrices=matrice1@matrice2               # '*'  ==> it gives matrice element wise multiplication \n",
    "print(\"the multiplication of two matrices is : \",mul_matrices)#'@' ===> it gives matrices multipication"
   ]
  },
  {
   "cell_type": "raw",
   "id": "0074b378",
   "metadata": {},
   "source": [
    "3.Write a Python Program to Transpose a Matrix?"
   ]
  },
  {
   "cell_type": "code",
   "execution_count": 17,
   "id": "1fd74271",
   "metadata": {},
   "outputs": [
    {
     "name": "stdout",
     "output_type": "stream",
     "text": [
      "the given matricee is:  [[4 5 6 7]\n",
      " [8 9 6 5]]\n",
      "the transpose of above matrice is:  [[4 8]\n",
      " [5 9]\n",
      " [6 6]\n",
      " [7 5]]\n"
     ]
    }
   ],
   "source": [
    "import numpy as np\n",
    "matrice=np.array([[4,5,6,7],[8,9,6,5]])\n",
    "print(\"the given matricee is: \",matrice)\n",
    "trans=matrice.T\n",
    "print(\"the transpose of above matrice is: \",trans )"
   ]
  },
  {
   "cell_type": "raw",
   "id": "84338181",
   "metadata": {},
   "source": [
    "4.Write a Python Program to Sort Words in Alphabetic Order?"
   ]
  },
  {
   "cell_type": "code",
   "execution_count": 19,
   "id": "8281b063",
   "metadata": {},
   "outputs": [
    {
     "name": "stdout",
     "output_type": "stream",
     "text": [
      "['bat', 'cat', 'kit', 'mat', 'rat', 'sat,', 'what']\n"
     ]
    }
   ],
   "source": [
    "list=['rat','mat','sat,','bat','what','cat','kit']\n",
    "list.sort()\n",
    "print(list)"
   ]
  },
  {
   "cell_type": "raw",
   "id": "a1254eb7",
   "metadata": {},
   "source": [
    "5.Write a Python Program to Remove Punctuation From a String?"
   ]
  },
  {
   "cell_type": "code",
   "execution_count": 38,
   "id": "e9167769",
   "metadata": {},
   "outputs": [
    {
     "name": "stdout",
     "output_type": "stream",
     "text": [
      "how was the day\n",
      "hello what a matchis it masti\n"
     ]
    }
   ],
   "source": [
    "string=\"how was the day?\"\n",
    "new_string=string.replace('?','')\n",
    "print(new_string)\n",
    "#another way\n",
    "import string\n",
    "str1=\"hello, what a match!,is it masti?\"\n",
    "for character in string.punctuation:\n",
    "    str1=str1.replace(character,'')\n",
    "print(str1)"
   ]
  },
  {
   "cell_type": "code",
   "execution_count": 39,
   "id": "591126c8",
   "metadata": {},
   "outputs": [
    {
     "data": {
      "text/plain": [
       "'!\"#$%&\\'()*+,-./:;<=>?@[\\\\]^_`{|}~'"
      ]
     },
     "execution_count": 39,
     "metadata": {},
     "output_type": "execute_result"
    }
   ],
   "source": [
    "string.punctuation"
   ]
  },
  {
   "cell_type": "code",
   "execution_count": null,
   "id": "da7bf26f",
   "metadata": {},
   "outputs": [],
   "source": []
  }
 ],
 "metadata": {
  "kernelspec": {
   "display_name": "Python 3 (ipykernel)",
   "language": "python",
   "name": "python3"
  },
  "language_info": {
   "codemirror_mode": {
    "name": "ipython",
    "version": 3
   },
   "file_extension": ".py",
   "mimetype": "text/x-python",
   "name": "python",
   "nbconvert_exporter": "python",
   "pygments_lexer": "ipython3",
   "version": "3.9.7"
  }
 },
 "nbformat": 4,
 "nbformat_minor": 5
}
