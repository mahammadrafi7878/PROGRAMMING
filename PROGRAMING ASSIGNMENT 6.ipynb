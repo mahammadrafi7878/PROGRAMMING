{
 "cells": [
  {
   "cell_type": "raw",
   "id": "0ff97138",
   "metadata": {},
   "source": [
    "1.Write a Python Program to Display Fibonacci Sequence Using Recursion?"
   ]
  },
  {
   "cell_type": "code",
   "execution_count": 8,
   "id": "9507c111",
   "metadata": {},
   "outputs": [
    {
     "name": "stdout",
     "output_type": "stream",
     "text": [
      "enter a number: 10\n",
      "0 ,1 ,1 ,2 ,3 ,5 ,8 ,13 ,21 ,34 ,"
     ]
    }
   ],
   "source": [
    "def fibonacci(n):\n",
    "    if n<=1:\n",
    "        return n\n",
    "    else:\n",
    "        return fibonacci(n-1)+fibonacci(n-2)\n",
    "n=int(input('enter a number: '))\n",
    "for i in range(n):\n",
    "    print(fibonacci(i),end=' ,')"
   ]
  },
  {
   "cell_type": "raw",
   "id": "6f80514c",
   "metadata": {},
   "source": [
    "2.Write a Python Program to Find Factorial of Number Using Recursion?"
   ]
  },
  {
   "cell_type": "code",
   "execution_count": 26,
   "id": "ac691595",
   "metadata": {},
   "outputs": [
    {
     "data": {
      "text/plain": [
       "720"
      ]
     },
     "execution_count": 26,
     "metadata": {},
     "output_type": "execute_result"
    }
   ],
   "source": [
    "def factorial(n):\n",
    "    if n<0:\n",
    "        return \"you have entered negative number ,there is no factorial for this\"\n",
    "    elif n==0 or n==1:\n",
    "        return 1\n",
    "    else:\n",
    "        return n*factorial(n-1)\n",
    "factorial(6)"
   ]
  },
  {
   "cell_type": "raw",
   "id": "4f772f3c",
   "metadata": {},
   "source": [
    "3.Write a Python Program to calculate your Body Mass Index?"
   ]
  },
  {
   "cell_type": "code",
   "execution_count": 9,
   "id": "6e9890e3",
   "metadata": {},
   "outputs": [
    {
     "name": "stdout",
     "output_type": "stream",
     "text": [
      "enter your weight in kg's: 75\n",
      "enter your height in meters: 162\n",
      "the body mass index for given  75 kg 162 m is 0.0028577960676726107\n"
     ]
    }
   ],
   "source": [
    "weight=int(input(\"enter your weight in kg's: \"))\n",
    "height=int(input(\"enter your height in meters: \"))\n",
    "squ_height=height**2\n",
    "BMI=weight/int(squ_height)\n",
    "print(\"the body mass index for given \",weight,\"kg\",height,\"m\",\"is\",BMI)"
   ]
  },
  {
   "cell_type": "raw",
   "id": "552894b0",
   "metadata": {},
   "source": [
    "4.Write a Python Program to calculate the natural logarithm of any number?"
   ]
  },
  {
   "cell_type": "code",
   "execution_count": 10,
   "id": "907e4177",
   "metadata": {},
   "outputs": [
    {
     "name": "stdout",
     "output_type": "stream",
     "text": [
      "please, enter your number for finding natural loerithm: 5\n",
      "the natural logerithm of given your number 5  is 1.6094379124341003\n"
     ]
    }
   ],
   "source": [
    "import math\n",
    "n=int(input(\"please, enter your number for finding natural loerithm: \"))\n",
    "natural_log=math.log(n)\n",
    "print(\"the natural logerithm of given your number\",n,\" is\",natural_log)\n"
   ]
  },
  {
   "cell_type": "raw",
   "id": "4c5c7b56",
   "metadata": {},
   "source": [
    "5.Write a Python Program for cube sum of first n natural numbers?"
   ]
  },
  {
   "cell_type": "code",
   "execution_count": 14,
   "id": "08204381",
   "metadata": {},
   "outputs": [
    {
     "name": "stdout",
     "output_type": "stream",
     "text": [
      "enter your first n number: 5\n",
      "the cube sum of first 5 numbers  is 225\n",
      "enter your first n number: 5\n",
      "the cube sum of first 5 numbers  is 225.0\n"
     ]
    }
   ],
   "source": [
    "sum=0\n",
    "num=int(input(\"enter your first n number: \"))\n",
    "for i in range(1,n+1):\n",
    "    sum=sum+pow(i,3)\n",
    "print(\"the cube sum of first\",num,\"numbers\" ,\" is\",sum)\n",
    "#another way\n",
    "n=int(input(\"enter your first n number: \"))\n",
    "nominator=(n**2)*((n+1)**2)\n",
    "cube_sum=nominator/4\n",
    "print(\"the cube sum of first\",n,\"numbers\" ,\" is\",cube_sum)"
   ]
  },
  {
   "cell_type": "code",
   "execution_count": null,
   "id": "099b3c40",
   "metadata": {},
   "outputs": [],
   "source": []
  }
 ],
 "metadata": {
  "kernelspec": {
   "display_name": "Python 3 (ipykernel)",
   "language": "python",
   "name": "python3"
  },
  "language_info": {
   "codemirror_mode": {
    "name": "ipython",
    "version": 3
   },
   "file_extension": ".py",
   "mimetype": "text/x-python",
   "name": "python",
   "nbconvert_exporter": "python",
   "pygments_lexer": "ipython3",
   "version": "3.9.7"
  }
 },
 "nbformat": 4,
 "nbformat_minor": 5
}
