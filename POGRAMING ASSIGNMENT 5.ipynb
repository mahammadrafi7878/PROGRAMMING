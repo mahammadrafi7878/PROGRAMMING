{
 "cells": [
  {
   "cell_type": "raw",
   "id": "9af1c2c1",
   "metadata": {},
   "source": [
    "1.Write a Python Program to Find LCM?"
   ]
  },
  {
   "cell_type": "code",
   "execution_count": 9,
   "id": "cbc6c20e",
   "metadata": {},
   "outputs": [
    {
     "name": "stdout",
     "output_type": "stream",
     "text": [
      "enter first number: 24\n",
      "enter your second number: 16\n",
      "48\n"
     ]
    }
   ],
   "source": [
    "x=int(input('enter first number: '))\n",
    "y=int(input(\"enter your second number: \"))\n",
    "if x>y:\n",
    "    greater = x\n",
    "else: \n",
    "    greater = y\n",
    "while(True):\n",
    "    if((greater%x == 0) and (greater%y == 0)):\n",
    "        lcm=greater\n",
    "        break\n",
    "    greater=greater+1\n",
    "print(lcm)"
   ]
  },
  {
   "cell_type": "raw",
   "id": "bced3a5f",
   "metadata": {},
   "source": [
    "2.Write a Python Program to Find HCF?"
   ]
  },
  {
   "cell_type": "code",
   "execution_count": 12,
   "id": "1ce05872",
   "metadata": {},
   "outputs": [
    {
     "name": "stdout",
     "output_type": "stream",
     "text": [
      "enter you are first number: 56\n",
      "enter your second number: 12\n",
      "4\n"
     ]
    }
   ],
   "source": [
    "x=int(input(\"enter you are first number: \"))\n",
    "y=int(input(\"enter your second number: \"))\n",
    "if x>y:\n",
    "    smaller=y\n",
    "else: \n",
    "    smaller=x\n",
    "for i in range(1,smaller+1):\n",
    "    if ((x%i==0) and (y%i==0)):\n",
    "        hcf=i\n",
    "print(hcf)"
   ]
  },
  {
   "cell_type": "raw",
   "id": "bb556603",
   "metadata": {},
   "source": [
    "3.Write a Python Program to Convert Decimal to Binary, Octal and Hexadecimal?"
   ]
  },
  {
   "cell_type": "code",
   "execution_count": 14,
   "id": "7e63af48",
   "metadata": {},
   "outputs": [
    {
     "name": "stdout",
     "output_type": "stream",
     "text": [
      "enter your decimal number: 7\n",
      "after converting decimal into binary   0b111\n",
      "after convertingdecimal inti octal  0o7\n",
      "after convertinginto hexadecimal 0x7\n"
     ]
    }
   ],
   "source": [
    "decimal=int(input('enter your decimal number: '))\n",
    "binary=bin(decimal)\n",
    "print(\"after converting decimal into binary  \",binary)\n",
    "octal=oct(decimal)\n",
    "print(\"after convertingdecimal inti octal \",octal)\n",
    "hexa_decimal=hex(decimal)\n",
    "print(\"after convertinginto hexadecimal\",hexa_decimal)"
   ]
  },
  {
   "cell_type": "raw",
   "id": "99b251bd",
   "metadata": {},
   "source": [
    "4.Write a Python Program To Find ASCII value of a character?"
   ]
  },
  {
   "cell_type": "code",
   "execution_count": 18,
   "id": "417a25fd",
   "metadata": {},
   "outputs": [
    {
     "name": "stdout",
     "output_type": "stream",
     "text": [
      "please enter your char: p\n",
      "the ascii value of given char p is 112\n"
     ]
    }
   ],
   "source": [
    "char= input(\"please enter your char: \")\n",
    "ascii_value=ord(char)\n",
    "print(\"the ascii value of given char\",char,'is',ascii_value)"
   ]
  },
  {
   "cell_type": "raw",
   "id": "0f9cd53e",
   "metadata": {},
   "source": [
    "5.Write a Python Program to Make a Simple Calculator with 4 basic mathematical operations?"
   ]
  },
  {
   "cell_type": "code",
   "execution_count": 22,
   "id": "16606cdc",
   "metadata": {},
   "outputs": [
    {
     "name": "stdout",
     "output_type": "stream",
     "text": [
      "enter your first number: 7\n",
      "enter your second number: 5\n",
      "the addition of given two numbers 7 , 5 is 12\n",
      "the substraction  of given two numbers 7 , 5 is 2\n",
      "the multiplication of given two numbers 7 , 5 is 35\n",
      "the division of given two numbers 7 , 5 is 1.4\n"
     ]
    }
   ],
   "source": [
    "number1=int(input(\"enter your first number: \"))\n",
    "number2=int(input(\"enter your second number: \"))\n",
    "addition=number1+number2\n",
    "substraction=number1-number2\n",
    "multiplication=number1*number2\n",
    "division=number1/number2\n",
    "print(\"the addition of given two numbers\",number1,',',number2,'is',addition)\n",
    "print(\"the substraction  of given two numbers\",number1,',',number2,'is', substraction)\n",
    "print(\"the multiplication of given two numbers\",number1,',',number2,'is', multiplication)\n",
    "print(\"the division of given two numbers\",number1,',',number2,'is', division)"
   ]
  },
  {
   "cell_type": "code",
   "execution_count": null,
   "id": "1d651cb3",
   "metadata": {},
   "outputs": [],
   "source": []
  }
 ],
 "metadata": {
  "kernelspec": {
   "display_name": "Python 3 (ipykernel)",
   "language": "python",
   "name": "python3"
  },
  "language_info": {
   "codemirror_mode": {
    "name": "ipython",
    "version": 3
   },
   "file_extension": ".py",
   "mimetype": "text/x-python",
   "name": "python",
   "nbconvert_exporter": "python",
   "pygments_lexer": "ipython3",
   "version": "3.9.7"
  }
 },
 "nbformat": 4,
 "nbformat_minor": 5
}
