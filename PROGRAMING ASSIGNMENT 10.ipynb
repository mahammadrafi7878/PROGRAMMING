{
 "cells": [
  {
   "cell_type": "raw",
   "id": "5fae9736",
   "metadata": {},
   "source": [
    "1.Write a Python program to find sum of elements in list?"
   ]
  },
  {
   "cell_type": "code",
   "execution_count": 88,
   "id": "667492a4",
   "metadata": {},
   "outputs": [
    {
     "name": "stdout",
     "output_type": "stream",
     "text": [
      "83\n"
     ]
    }
   ],
   "source": [
    "list4=[4,7,5,7,9,6,5,2,3,1,4,7,8,4,5,6]\n",
    "tot=0\n",
    "for i in list4:\n",
    "    tot=tot+i\n",
    "print(tot)"
   ]
  },
  {
   "cell_type": "raw",
   "id": "ec93de94",
   "metadata": {},
   "source": [
    "2.Write a Python program to  Multiply all numbers in the list?"
   ]
  },
  {
   "cell_type": "code",
   "execution_count": 2,
   "id": "244d69e9",
   "metadata": {},
   "outputs": [
    {
     "name": "stdout",
     "output_type": "stream",
     "text": [
      "50803200\n"
     ]
    }
   ],
   "source": [
    "list1=[4,5,6,7,8,4,5,9,6,1,7]\n",
    "mul=1\n",
    "for i in list1:\n",
    "    mul=mul*i\n",
    "print(mul)"
   ]
  },
  {
   "cell_type": "raw",
   "id": "8a47b3d7",
   "metadata": {},
   "source": [
    "3.Write a Python program to find smallest number in a list?"
   ]
  },
  {
   "cell_type": "code",
   "execution_count": 89,
   "id": "08be7f3b",
   "metadata": {},
   "outputs": [
    {
     "name": "stdout",
     "output_type": "stream",
     "text": [
      "12\n",
      "12\n"
     ]
    }
   ],
   "source": [
    "list2=[49,56,64,12,32,56,72,81,92,15,41,22,13]\n",
    "less=list2[0]\n",
    "for i in range(len(list2)):\n",
    "    if list2[i]<less:        # this is index wise comparing\n",
    "        less=list2[i]\n",
    "print(less)\n",
    "# another way\n",
    "list2=[49,56,64,12,32,56,72,81,92,15,41,22,13]\n",
    "less=list2[0]\n",
    "for i in list2:\n",
    "    if i<less:         # this is value wise comparing\n",
    "        less=i\n",
    "print(less)"
   ]
  },
  {
   "cell_type": "raw",
   "id": "ee594f0b",
   "metadata": {},
   "source": [
    "4.Write a Python program to find largest number in a list?"
   ]
  },
  {
   "cell_type": "code",
   "execution_count": 81,
   "id": "1c2e5bf2",
   "metadata": {},
   "outputs": [
    {
     "name": "stdout",
     "output_type": "stream",
     "text": [
      "92\n",
      "92\n"
     ]
    },
    {
     "data": {
      "text/plain": [
       "92"
      ]
     },
     "execution_count": 81,
     "metadata": {},
     "output_type": "execute_result"
    }
   ],
   "source": [
    "list2=[4,75,76,25,3,5,7,87,92,59,4,28,3]\n",
    "great=list2[0]\n",
    "for i in range(len(list2)):\n",
    "    if list2[i]>great:         # index wise comparing\n",
    "        great=list2[i]\n",
    "print(great)\n",
    "#another way\n",
    "list2=[4,75,76,25,3,5,7,87,92,59,4,28,3]\n",
    "great=list2[0]\n",
    "for i in list2:\n",
    "    if i>great:         # index wise comparing\n",
    "        great=i\n",
    "print(great)\n"
   ]
  },
  {
   "cell_type": "raw",
   "id": "c919741e",
   "metadata": {},
   "source": [
    "5.Write a Python program to find second largest number in a list?"
   ]
  },
  {
   "cell_type": "code",
   "execution_count": 102,
   "id": "4330b33c",
   "metadata": {},
   "outputs": [
    {
     "name": "stdout",
     "output_type": "stream",
     "text": [
      "second largest number is :  87\n"
     ]
    }
   ],
   "source": [
    "list2=[4,75,76,25,3,5,7,87,92,59,4,28,3]\n",
    "mx=max(list2[0],list2[1])\n",
    "second_max=max(list2[0],list2[1])\n",
    "n=len(list2)\n",
    "for i in range(2,n):\n",
    "    if list2[i]>mx:\n",
    "        second_max=mx\n",
    "        mx=list2[i]\n",
    "    elif list2[i]>second_max and mx!=list2[i]:\n",
    "        second_max=list2[i]\n",
    "    elif mx==second_max and second_max!=list2[i]:\n",
    "        second_max=list2[i]\n",
    "print(\"second largest number is : \",second_max)\n"
   ]
  },
  {
   "cell_type": "raw",
   "id": "53f1ba76",
   "metadata": {},
   "source": [
    "6.Write a Python program to find N largest elements from a list?"
   ]
  },
  {
   "cell_type": "code",
   "execution_count": 106,
   "id": "53201b3f",
   "metadata": {},
   "outputs": [
    {
     "name": "stdout",
     "output_type": "stream",
     "text": [
      "enter number: 5\n",
      "[59, 75, 76, 87, 92]\n"
     ]
    }
   ],
   "source": [
    "list2=[4,75,76,25,3,5,7,87,92,59,4,28,3]\n",
    "list2.sort()\n",
    "n=int(input(\"enter number: \"))\n",
    "print(list2[-n:])"
   ]
  },
  {
   "cell_type": "raw",
   "id": "cfdaac2b",
   "metadata": {},
   "source": [
    "7.Write a Python program to print even numbers in a list?"
   ]
  },
  {
   "cell_type": "code",
   "execution_count": 109,
   "id": "1dc88bb1",
   "metadata": {},
   "outputs": [
    {
     "name": "stdout",
     "output_type": "stream",
     "text": [
      "4,6,2,8,12,4,8,4,8,6,2,"
     ]
    }
   ],
   "source": [
    "list7=[4,7,5,6,1,2,3,9,8,12,4,5,7,8,9,5,4,7,8,6,2]\n",
    "for i in list7:\n",
    "    if i%2 ==0:\n",
    "        print(i,end=',')"
   ]
  },
  {
   "cell_type": "raw",
   "id": "d818e66b",
   "metadata": {},
   "source": [
    "8.Write a Python program to print odd numbers in a List?"
   ]
  },
  {
   "cell_type": "code",
   "execution_count": 110,
   "id": "4e180333",
   "metadata": {},
   "outputs": [
    {
     "name": "stdout",
     "output_type": "stream",
     "text": [
      "7,5,1,3,9,5,7,9,5,7,"
     ]
    }
   ],
   "source": [
    "list8=[4,7,5,6,1,2,3,9,8,12,4,5,7,8,9,5,4,7,8,6,2]\n",
    "for i in list8:\n",
    "    if i%2 !=0:\n",
    "        print(i, end=',')"
   ]
  },
  {
   "cell_type": "raw",
   "id": "35cc1814",
   "metadata": {},
   "source": [
    "10.Write a Python program to Cloning or Copying a list?"
   ]
  },
  {
   "cell_type": "code",
   "execution_count": 115,
   "id": "6075a58a",
   "metadata": {},
   "outputs": [
    {
     "name": "stdout",
     "output_type": "stream",
     "text": [
      "[12, 4, 78, 6, 5, 9, 65, 8, 7]\n",
      "[12, 4, 78, 6, 5, 9, 65, 8, 7]\n",
      "[12, 4, 78, 6, 5, 9, 65, 8, 7]\n",
      "[12, 4, 78, 6, 5, 9, 65, 8, 7]\n"
     ]
    }
   ],
   "source": [
    "l=[12,4,78,6,5,9,65,8,7]\n",
    "import copy\n",
    "l1=copy.deepcopy(l)\n",
    "print(l1)\n",
    "l2=l1[::]\n",
    "print(l2)\n",
    "l3=copy.copy(l)\n",
    "print(l3)\n",
    "l4=[]\n",
    "for i in l:\n",
    "    l4.append(i)\n",
    "print(l4)"
   ]
  },
  {
   "cell_type": "raw",
   "id": "f06f01b3",
   "metadata": {},
   "source": [
    "11.Write a Python program to Count occurrences of an element in a list?"
   ]
  },
  {
   "cell_type": "code",
   "execution_count": 120,
   "id": "836090ca",
   "metadata": {},
   "outputs": [
    {
     "name": "stdout",
     "output_type": "stream",
     "text": [
      "3\n"
     ]
    },
    {
     "data": {
      "text/plain": [
       "3"
      ]
     },
     "execution_count": 120,
     "metadata": {},
     "output_type": "execute_result"
    }
   ],
   "source": [
    "l5=[4,5,6,7,8,9,4,1,2,5,9,6,3,2,5,4,7,8,9,1,5,6,4,7,8,5,1,2,3]\n",
    "count=0\n",
    "for i in l5:\n",
    "    if i == 2:\n",
    "        count=count+1\n",
    "print(count)\n",
    "#another way using inbilt method count()\n",
    "l5.count(9)"
   ]
  },
  {
   "cell_type": "code",
   "execution_count": null,
   "id": "80b646a2",
   "metadata": {},
   "outputs": [],
   "source": []
  }
 ],
 "metadata": {
  "kernelspec": {
   "display_name": "Python 3 (ipykernel)",
   "language": "python",
   "name": "python3"
  },
  "language_info": {
   "codemirror_mode": {
    "name": "ipython",
    "version": 3
   },
   "file_extension": ".py",
   "mimetype": "text/x-python",
   "name": "python",
   "nbconvert_exporter": "python",
   "pygments_lexer": "ipython3",
   "version": "3.9.7"
  }
 },
 "nbformat": 4,
 "nbformat_minor": 5
}
