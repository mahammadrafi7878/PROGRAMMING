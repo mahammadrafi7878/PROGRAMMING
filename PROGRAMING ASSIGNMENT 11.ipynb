{
 "cells": [
  {
   "cell_type": "raw",
   "id": "4aeeb612",
   "metadata": {},
   "source": [
    "1.Write a Python program to find words which are greater than given length k?"
   ]
  },
  {
   "cell_type": "code",
   "execution_count": 2,
   "id": "8fb91039",
   "metadata": {},
   "outputs": [
    {
     "name": "stdout",
     "output_type": "stream",
     "text": [
      "Enter a number to find greater thn that number words : 4\n",
      "hello\n",
      "maximum\n",
      "length\n"
     ]
    }
   ],
   "source": [
    "words=\"hello\",\"born\",\"maximum\",\"length\",\"boy\",\"is\",\"were\",\"am\"\n",
    "l=int(input(\"Enter a number to find greater thn that number words : \"))\n",
    "for i in words:\n",
    "    if len(i)>l:\n",
    "        print(i)"
   ]
  },
  {
   "cell_type": "raw",
   "id": "1693f3ac",
   "metadata": {},
   "source": [
    "2.Write a Python program for removing i-th character from a string?"
   ]
  },
  {
   "cell_type": "code",
   "execution_count": 59,
   "id": "f78eec26",
   "metadata": {},
   "outputs": [
    {
     "name": "stdout",
     "output_type": "stream",
     "text": [
      "enter your i th position: 3\n",
      "warenty\n",
      "enter your i th position: 2\n",
      "guantee\n"
     ]
    }
   ],
   "source": [
    "string='warrenty'\n",
    "i=int(input(\"enter your i th position: \"))\n",
    "a=string[:i]\n",
    "b=string[i+1:]\n",
    "print(a+b)\n",
    "#another way \n",
    "string1=\"gurantee\"\n",
    "j=int(input(\"enter your i th position: \"))\n",
    "for i in range(len(string1)):\n",
    "    if j==i:\n",
    "        string2=string1.replace(string[i],'',1)\n",
    "print(string2)    \n"
   ]
  },
  {
   "cell_type": "raw",
   "id": "41be087c",
   "metadata": {},
   "source": [
    "3.Write a Python program to split and join a string?"
   ]
  },
  {
   "cell_type": "code",
   "execution_count": 62,
   "id": "7cc051fd",
   "metadata": {},
   "outputs": [
    {
     "name": "stdout",
     "output_type": "stream",
     "text": [
      "['this', 'is', 'first', 'python', 'string']\n",
      "this is first python string\n"
     ]
    }
   ],
   "source": [
    "string3='this is first python string'\n",
    "string4=string3.split(' ')\n",
    "print(string4)\n",
    "string5=' '.join(string4)\n",
    "print(string5)"
   ]
  },
  {
   "cell_type": "raw",
   "id": "79bbe1d7",
   "metadata": {},
   "source": [
    "4.Write a Python to check if a given string is binary string or not?"
   ]
  },
  {
   "cell_type": "code",
   "execution_count": 110,
   "id": "4c54b70c",
   "metadata": {},
   "outputs": [
    {
     "name": "stdout",
     "output_type": "stream",
     "text": [
      "this is not binary string\n"
     ]
    }
   ],
   "source": [
    "string7=\"binary\"\n",
    "for i in string7:\n",
    "    if i =='0' or i=='1':\n",
    "        print(\"this is binary string\")\n",
    "else:\n",
    "    print(\"this is not binary string\")"
   ]
  },
  {
   "cell_type": "raw",
   "id": "45577f7d",
   "metadata": {},
   "source": [
    "5.Write a Python program to find uncommon words from two Strings?"
   ]
  },
  {
   "cell_type": "code",
   "execution_count": 90,
   "id": "0d26cb46",
   "metadata": {},
   "outputs": [
    {
     "name": "stdout",
     "output_type": "stream",
     "text": [
      " was went\n"
     ]
    }
   ],
   "source": [
    "string1=\"i am going to home\"\n",
    "string2=\"i was went to home\"\n",
    "list_string1=string1.split()\n",
    "list_string2=string2.split()\n",
    "uc_words=\"\"\n",
    "for i in list_string1:\n",
    "    if i  not in list_string2:\n",
    "        uc_word=uc_words+\" \"+i\n",
    "for j in list_string2:\n",
    "    if j not in list_string1:\n",
    "        uc_words=uc_words+\" \"+j\n",
    "print(uc_words)"
   ]
  },
  {
   "cell_type": "raw",
   "id": "7d965dca",
   "metadata": {},
   "source": [
    "6.Write a Python to find all duplicate characters in string?"
   ]
  },
  {
   "cell_type": "code",
   "execution_count": 95,
   "id": "b599855d",
   "metadata": {},
   "outputs": [
    {
     "name": "stdout",
     "output_type": "stream",
     "text": [
      "h e l o  \n"
     ]
    }
   ],
   "source": [
    "string=\"hello how are you\"\n",
    "value=[]\n",
    "for i in string:\n",
    "    if i not in value and string.count(i)>1:\n",
    "        value.append(i)\n",
    "print(' '.join(value))"
   ]
  },
  {
   "cell_type": "raw",
   "id": "875768de",
   "metadata": {},
   "source": [
    "7.Write a Python Program to check if a string contains any special character?"
   ]
  },
  {
   "cell_type": "code",
   "execution_count": 102,
   "id": "b7e9556f",
   "metadata": {},
   "outputs": [
    {
     "name": "stdout",
     "output_type": "stream",
     "text": [
      "your string contain special characters \n"
     ]
    }
   ],
   "source": [
    "string=\"what are you doing?\"\n",
    "string.split()\n",
    "c=0\n",
    "special_character='{}[]=-`~\\|!@#$%^&*()_+\"\"'':;,<.>/?'\n",
    "for i in range(len(string)):\n",
    "    if string[i]  in special_character:\n",
    "        c=c+1\n",
    "if c:\n",
    "    print(\"your string contain special characters \")\n",
    "else:\n",
    "    (\"do not contain special characters\")"
   ]
  },
  {
   "cell_type": "code",
   "execution_count": null,
   "id": "0dc7d9f9",
   "metadata": {},
   "outputs": [],
   "source": []
  }
 ],
 "metadata": {
  "kernelspec": {
   "display_name": "Python 3 (ipykernel)",
   "language": "python",
   "name": "python3"
  },
  "language_info": {
   "codemirror_mode": {
    "name": "ipython",
    "version": 3
   },
   "file_extension": ".py",
   "mimetype": "text/x-python",
   "name": "python",
   "nbconvert_exporter": "python",
   "pygments_lexer": "ipython3",
   "version": "3.9.7"
  }
 },
 "nbformat": 4,
 "nbformat_minor": 5
}
