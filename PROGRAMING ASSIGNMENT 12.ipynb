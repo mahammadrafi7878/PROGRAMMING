{
 "cells": [
  {
   "cell_type": "raw",
   "id": "29e2c367",
   "metadata": {},
   "source": [
    "1.Write a Python program to Extract Unique values dictionary values?"
   ]
  },
  {
   "cell_type": "code",
   "execution_count": 15,
   "id": "1855c023",
   "metadata": {},
   "outputs": [
    {
     "name": "stdout",
     "output_type": "stream",
     "text": [
      "{37, 44, 45, 78, 55}\n"
     ]
    }
   ],
   "source": [
    "dic={'key':44,\"key2\":78,\"key3\":55,\"key4\":44,\"key5\":55,'key6':45,\"key7\":78,\"key8\":37}\n",
    "print(set(dic.values()))"
   ]
  },
  {
   "cell_type": "raw",
   "id": "04c938cc",
   "metadata": {},
   "source": [
    "2.Write a Python program to find the sum of all items in a dictionary?"
   ]
  },
  {
   "cell_type": "code",
   "execution_count": 20,
   "id": "22011860",
   "metadata": {},
   "outputs": [
    {
     "name": "stdout",
     "output_type": "stream",
     "text": [
      "436\n"
     ]
    }
   ],
   "source": [
    "dic={'key':44,\"key2\":78,\"key3\":55,\"key4\":44,\"key5\":55,'key6':45,\"key7\":78,\"key8\":37}\n",
    "total=0\n",
    "for i in dic.values():\n",
    "    total=total+i\n",
    "print(total)\n",
    "    "
   ]
  },
  {
   "cell_type": "raw",
   "id": "8e470d84",
   "metadata": {},
   "source": [
    "3.Write a Python program to Merging two Dictionaries?"
   ]
  },
  {
   "cell_type": "code",
   "execution_count": 34,
   "id": "9eccf180",
   "metadata": {},
   "outputs": [
    {
     "name": "stdout",
     "output_type": "stream",
     "text": [
      "{'key5': 55, 'key6': 45, 'key7': 78, 'key8': 37, 'key': 44, 'key2': 78, 'key3': 55, 'key4': 44}\n",
      "{'key': 44, 'key2': 78, 'key3': 55, 'key4': 44, 'key5': 55, 'key6': 45, 'key7': 78, 'key8': 37}\n",
      "{'key5': 55, 'key6': 45, 'key7': 78, 'key8': 37, 'key': 44, 'key2': 78, 'key3': 55, 'key4': 44}\n"
     ]
    }
   ],
   "source": [
    "dic1={'key':44,\"key2\":78,\"key3\":55,\"key4\":44}\n",
    "dic2={\"key5\":55,'key6':45,\"key7\":78,\"key8\":37}\n",
    "dic2.update(dic1)\n",
    "print(dic2)              #using update method\n",
    "dict3={**dic1,**dic2} \n",
    "print(dict3)              #using keyword arguments  function\n",
    "for i in dic2.values():\n",
    "    dic1=dic2         # using iteration \n",
    "print(dic1)"
   ]
  },
  {
   "cell_type": "raw",
   "id": "dd1a998b",
   "metadata": {},
   "source": [
    "4.Write a Python program to convert key-values list to flat dictionary?"
   ]
  },
  {
   "cell_type": "code",
   "execution_count": 40,
   "id": "c269f364",
   "metadata": {},
   "outputs": [
    {
     "name": "stdout",
     "output_type": "stream",
     "text": [
      "{1: 'jan', 2: 'feb', 3: 'mar'}\n",
      "{1: 'jan', 2: 'feb', 3: 'mar'}\n"
     ]
    }
   ],
   "source": [
    "list1={'month':[1,2,3],\"name\":['jan','feb','mar']}\n",
    "from itertools import product\n",
    "result=dict(zip(list1['month'],list1['name']))\n",
    "print(str(result))\n",
    "#using iteration\n",
    "x=list(list1.values())\n",
    "a=x[0]\n",
    "b=x[1]\n",
    "d=dict()\n",
    "for i in range(0,len(a)):\n",
    "    d[a[i]]=b[i]\n",
    "print(str(d))"
   ]
  },
  {
   "cell_type": "raw",
   "id": "7010e3f8",
   "metadata": {},
   "source": [
    "5.Write a Python program to insertion at the beginning in OrderedDict?"
   ]
  },
  {
   "cell_type": "code",
   "execution_count": 42,
   "id": "de3d4acc",
   "metadata": {},
   "outputs": [
    {
     "name": "stdout",
     "output_type": "stream",
     "text": [
      "OrderedDict([('sehrish', '3'), ('rafi', '1'), ('hussenbi', '2')])\n"
     ]
    }
   ],
   "source": [
    "from collections import OrderedDict\n",
    "dict1=OrderedDict([('rafi','1'),('hussenbi','2')])\n",
    "dict1.update({\"sehrish\":'3'})\n",
    "dict1.move_to_end(\"sehrish\",last=False)\n",
    "print(dict1)"
   ]
  },
  {
   "cell_type": "raw",
   "id": "e461ac40",
   "metadata": {},
   "source": [
    "6.Write a Python program to check order of character in string using OrderedDict()?"
   ]
  },
  {
   "cell_type": "code",
   "execution_count": 44,
   "id": "9359a062",
   "metadata": {},
   "outputs": [
    {
     "name": "stdout",
     "output_type": "stream",
     "text": [
      "yes\n"
     ]
    },
    {
     "ename": "IndexError",
     "evalue": "string index out of range",
     "output_type": "error",
     "traceback": [
      "\u001b[1;31m---------------------------------------------------------------------------\u001b[0m",
      "\u001b[1;31mIndexError\u001b[0m                                Traceback (most recent call last)",
      "\u001b[1;32m~\\AppData\\Local\\Temp/ipykernel_11136/3168956075.py\u001b[0m in \u001b[0;36m<module>\u001b[1;34m\u001b[0m\n\u001b[0;32m      5\u001b[0m \u001b[0mplen\u001b[0m\u001b[1;33m=\u001b[0m\u001b[1;36m0\u001b[0m\u001b[1;33m\u001b[0m\u001b[1;33m\u001b[0m\u001b[0m\n\u001b[0;32m      6\u001b[0m \u001b[1;32mfor\u001b[0m \u001b[0mkey\u001b[0m\u001b[1;33m,\u001b[0m\u001b[0mvalue\u001b[0m \u001b[1;32min\u001b[0m \u001b[0mdict2\u001b[0m\u001b[1;33m.\u001b[0m\u001b[0mitems\u001b[0m\u001b[1;33m(\u001b[0m\u001b[1;33m)\u001b[0m\u001b[1;33m:\u001b[0m\u001b[1;33m\u001b[0m\u001b[1;33m\u001b[0m\u001b[0m\n\u001b[1;32m----> 7\u001b[1;33m     \u001b[1;32mif\u001b[0m \u001b[1;33m(\u001b[0m\u001b[0mkey\u001b[0m\u001b[1;33m==\u001b[0m\u001b[0mpattern\u001b[0m\u001b[1;33m[\u001b[0m\u001b[0mplen\u001b[0m\u001b[1;33m]\u001b[0m\u001b[1;33m)\u001b[0m\u001b[1;33m:\u001b[0m\u001b[1;33m\u001b[0m\u001b[1;33m\u001b[0m\u001b[0m\n\u001b[0m\u001b[0;32m      8\u001b[0m         \u001b[0mplen\u001b[0m\u001b[1;33m=\u001b[0m\u001b[0mplen\u001b[0m\u001b[1;33m+\u001b[0m\u001b[1;36m1\u001b[0m\u001b[1;33m\u001b[0m\u001b[1;33m\u001b[0m\u001b[0m\n\u001b[0;32m      9\u001b[0m     \u001b[1;32mif\u001b[0m \u001b[1;33m(\u001b[0m\u001b[0mplen\u001b[0m\u001b[1;33m==\u001b[0m\u001b[1;33m(\u001b[0m\u001b[0mlen\u001b[0m\u001b[1;33m(\u001b[0m\u001b[0mpattern\u001b[0m\u001b[1;33m)\u001b[0m\u001b[1;33m)\u001b[0m\u001b[1;33m)\u001b[0m\u001b[1;33m:\u001b[0m\u001b[1;33m\u001b[0m\u001b[1;33m\u001b[0m\u001b[0m\n",
      "\u001b[1;31mIndexError\u001b[0m: string index out of range"
     ]
    }
   ],
   "source": [
    "from collections import OrderedDict \n",
    "dict1='engineers rock'\n",
    "dict2=OrderedDict.fromkeys(dict1)\n",
    "pattern='er'\n",
    "plen=0\n",
    "for key,value in dict2.items():\n",
    "    if (key==pattern[plen]):\n",
    "        plen=plen+1\n",
    "    if (plen==(len(pattern))):\n",
    "        print(\"yes\")"
   ]
  },
  {
   "cell_type": "raw",
   "id": "3e0c9b64",
   "metadata": {},
   "source": [
    "7.Write a Python program to sort Python Dictionaries by Key or Value?"
   ]
  },
  {
   "cell_type": "code",
   "execution_count": 45,
   "id": "f3ad81e1",
   "metadata": {},
   "outputs": [
    {
     "name": "stdout",
     "output_type": "stream",
     "text": [
      "OrderedDict([('kiran', 3), ('meghana', 6), ('rajesh', 4), ('ravi', 10), ('suryama', 45)])\n"
     ]
    }
   ],
   "source": [
    "from collections import OrderedDict\n",
    "dict1={\"ravi\":10,\"rajesh\":4,\"suryama\":45,\"kiran\":3,\"meghana\":6}\n",
    "dict2=OrderedDict(sorted(dict1.items()))\n",
    "print(dict2)"
   ]
  },
  {
   "cell_type": "code",
   "execution_count": null,
   "id": "a5c3ad42",
   "metadata": {},
   "outputs": [],
   "source": []
  }
 ],
 "metadata": {
  "kernelspec": {
   "display_name": "Python 3 (ipykernel)",
   "language": "python",
   "name": "python3"
  },
  "language_info": {
   "codemirror_mode": {
    "name": "ipython",
    "version": 3
   },
   "file_extension": ".py",
   "mimetype": "text/x-python",
   "name": "python",
   "nbconvert_exporter": "python",
   "pygments_lexer": "ipython3",
   "version": "3.9.7"
  }
 },
 "nbformat": 4,
 "nbformat_minor": 5
}
