{
 "cells": [
  {
   "cell_type": "raw",
   "id": "7e038813",
   "metadata": {},
   "source": [
    "Question 1:\n",
    "\n",
    "Define a class with a generator which can iterate the numbers, which are divisible by 7, between a given range 0 and n.\n"
   ]
  },
  {
   "cell_type": "code",
   "execution_count": 22,
   "id": "11d6c5ec",
   "metadata": {},
   "outputs": [
    {
     "data": {
      "text/plain": [
       "<generator object generator.generate at 0x000001F5B6714510>"
      ]
     },
     "execution_count": 22,
     "metadata": {},
     "output_type": "execute_result"
    }
   ],
   "source": [
    "class generator: \n",
    "    def generate(n):\n",
    "        for i in range(n):\n",
    "            if i%7 ==0:\n",
    "                yield i\n",
    "first=generator()\n",
    "first.generate()\n",
    "\n",
    "        "
   ]
  },
  {
   "cell_type": "raw",
   "id": "67f417e6",
   "metadata": {},
   "source": [
    "Question 2:\n",
    "Write a program to compute the frequency of the words from the input. The output should output after sorting the key alphanumerically. \n",
    "\n",
    "Suppose the following input is supplied to the program:\n",
    "\n",
    "New to Python or choosing between Python 2 and Python 3? Read Python 2 or Python 3.\n",
    "\n",
    "Then, the output should be:\n",
    "\n",
    "2:2\n",
    "\n",
    "3.:1\n",
    "\n",
    "3?:1\n",
    "\n",
    "New:1\n",
    "\n",
    "Python:5\n",
    "\n",
    "Read:1\n",
    "\n",
    "and:1\n",
    "\n",
    "between:1\n",
    "\n",
    "choosing:1\n",
    "\n",
    "or:2\n",
    "\n",
    "to:1\n"
   ]
  },
  {
   "cell_type": "code",
   "execution_count": 95,
   "id": "4e87a6bf",
   "metadata": {},
   "outputs": [
    {
     "name": "stdout",
     "output_type": "stream",
     "text": [
      "enter your sentences: New to Python or choosing between Python 2 and Python 3? Read Python 2 or Python 3.\n",
      "2 : 2\n",
      "3. : 1\n",
      "3? : 1\n",
      "New : 1\n",
      "Python : 5\n",
      "Read : 1\n",
      "and : 1\n",
      "between : 1\n",
      "choosing : 1\n",
      "or : 2\n",
      "to : 1\n"
     ]
    }
   ],
   "source": [
    "sentence =input(\"enter your sentences: \")\n",
    "sentence1=sentence.split()\n",
    "freq_count=[]\n",
    "for i in sentence1:\n",
    "    if i not in freq_count:\n",
    "        freq_count.append(i)\n",
    "last=sorted(freq_count,key=str)\n",
    "for i in range(0,len(last)):\n",
    "    print(last[i],\":\",sentence.count(last[i]))"
   ]
  },
  {
   "cell_type": "raw",
   "id": "0b609462",
   "metadata": {},
   "source": [
    "Question 3:\n",
    "\n",
    "\n",
    "\n",
    "Define a class Person and its two child classes: Male and Female. All classes have a method \"getGender\" which can print \"Male\" for Male class and \"Female\" for Female class.\n"
   ]
  },
  {
   "cell_type": "code",
   "execution_count": 110,
   "id": "3921008a",
   "metadata": {},
   "outputs": [
    {
     "name": "stdout",
     "output_type": "stream",
     "text": [
      "Male\n",
      "Female\n"
     ]
    }
   ],
   "source": [
    "class Person:\n",
    "    def __init__(self):\n",
    "        self.name=\"person\"\n",
    "    def getGender(self):\n",
    "        print(self.name)\n",
    "class Male(Person):\n",
    "    def __init__(self):\n",
    "        self.name=\"Male\"\n",
    "    def getGender(self):\n",
    "        print(self.name)\n",
    "class Female(Person):\n",
    "    def __init__(self):\n",
    "        self.name=\"Female\"\n",
    "    def getGender(self):\n",
    "        print(self.name)\n",
    "obj1=Male()\n",
    "obj1.getGender()\n",
    "obj2=Female()\n",
    "obj2.getGender()\n",
    "\n"
   ]
  },
  {
   "cell_type": "raw",
   "id": "6d89f77f",
   "metadata": {},
   "source": [
    "Question 4:\n",
    "Please write a program to generate all sentences where subject is in [\"I\", \"You\"] and verb is in [\"Play\", \"Love\"] and the object is in [\"Hockey\",\"Football\"].\n",
    "\n",
    "\n"
   ]
  },
  {
   "cell_type": "code",
   "execution_count": 118,
   "id": "1b2e1c4d",
   "metadata": {},
   "outputs": [
    {
     "name": "stdout",
     "output_type": "stream",
     "text": [
      "IPlayHockey\n",
      "IPlayfootball\n",
      "ILoveHockey\n",
      "ILovefootball\n",
      "YOUPlayHockey\n",
      "YOUPlayfootball\n",
      "YOULoveHockey\n",
      "YOULovefootball\n"
     ]
    }
   ],
   "source": [
    "subject=[\"I\",\"YOU\"]\n",
    "verbs=[\"Play\",\"Love\"]\n",
    "objects=[\"Hockey\",\"football\"]\n",
    "for i in subject:\n",
    "    for j in verbs:\n",
    "        for k in objects:\n",
    "            print(i + j + k)"
   ]
  },
  {
   "cell_type": "raw",
   "id": "746b6fc9",
   "metadata": {},
   "source": [
    "Question 5:\n",
    "Please write a program to compress and decompress the string \"hello world!helloworld!helloworld!hello world!\".\n"
   ]
  },
  {
   "cell_type": "code",
   "execution_count": 126,
   "id": "d848db12",
   "metadata": {},
   "outputs": [
    {
     "name": "stdout",
     "output_type": "stream",
     "text": [
      " !hel2o world!hel2oworld!hel2oworld!hel2o world!\n",
      "b'\\x1f\\x8b\\x08\\x00sn#c\\x02\\xff\\xcbH\\xcd\\xc9\\xc9W(\\xcf/\\xcaIQ\\xcc\\x00\\xb1\\xb13\\xa1*\\x00\\xd0,\\xc6J.\\x00\\x00\\x00'\n",
      "b'hello world!helloworld!helloworld!hello world!'\n"
     ]
    }
   ],
   "source": [
    "string=\"hello world!helloworld!helloworld!hello world!\"\n",
    "res=\" \"\n",
    "cnt=1\n",
    "for i in range(0,len(string)):\n",
    "    if string[i-1] == string[i]:\n",
    "        cnt+=1\n",
    "    else:\n",
    "        res=res+string[i-1]\n",
    "        if cnt>1:\n",
    "            res+=str(cnt)\n",
    "        cnt=1\n",
    "res=res+string[-1]\n",
    "if cnt>1:\n",
    "    res=res+str(cnt)\n",
    "print(res)   \n",
    "# using gzip library\n",
    "import gzip\n",
    "string=b\"hello world!helloworld!helloworld!hello world!\"\n",
    "comp=gzip.compress(string)\n",
    "print(comp)\n",
    "decomp=gzip.decompress(comp)\n",
    "print(decomp)"
   ]
  },
  {
   "cell_type": "raw",
   "id": "753666ca",
   "metadata": {},
   "source": [
    "Question 6:\n",
    "Please write a binary search function which searches an item in a sorted list. The function should return the index of element to be searched in the list.\n"
   ]
  },
  {
   "cell_type": "code",
   "execution_count": 136,
   "id": "985ec7aa",
   "metadata": {},
   "outputs": [
    {
     "name": "stdout",
     "output_type": "stream",
     "text": [
      "indexof searching element 2 is 6\n"
     ]
    }
   ],
   "source": [
    "def binary_search(lst,x):\n",
    "    low=0\n",
    "    high=len(lst)-1\n",
    "    mid=0\n",
    "    while low<=high:\n",
    "        mid=(high+low)//2\n",
    "        if lst[mid]<x:\n",
    "            low=mid+1\n",
    "        elif lst[mid]>x:\n",
    "            high=mid-1\n",
    "        else:\n",
    "            return mid\n",
    "    return n-1\n",
    "lst=[4,8,6,7,1,5,2,3,6,8,9,5,1,2]\n",
    "x=2\n",
    "result=binary_search(lst,x)\n",
    "print(\"indexof searching element\",x,\"is\",result)"
   ]
  },
  {
   "cell_type": "code",
   "execution_count": null,
   "id": "b6f3114f",
   "metadata": {},
   "outputs": [],
   "source": []
  }
 ],
 "metadata": {
  "kernelspec": {
   "display_name": "Python 3 (ipykernel)",
   "language": "python",
   "name": "python3"
  },
  "language_info": {
   "codemirror_mode": {
    "name": "ipython",
    "version": 3
   },
   "file_extension": ".py",
   "mimetype": "text/x-python",
   "name": "python",
   "nbconvert_exporter": "python",
   "pygments_lexer": "ipython3",
   "version": "3.9.7"
  }
 },
 "nbformat": 4,
 "nbformat_minor": 5
}
