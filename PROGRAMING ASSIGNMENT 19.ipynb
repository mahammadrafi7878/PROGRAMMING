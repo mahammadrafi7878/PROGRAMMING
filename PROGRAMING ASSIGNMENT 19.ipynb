{
 "cells": [
  {
   "cell_type": "raw",
   "id": "e085f62b",
   "metadata": {},
   "source": [
    "Question1\n",
    "Create a function that takes a string and returns a string in which each character is repeated once.\n",
    "Examples\n",
    "double_char(\"String\") ➞ \"SSttrriinngg\"\n",
    "\n",
    "double_char(\"Hello World!\") ➞ \"HHeellllooWWoorrlldd!!\"\n",
    "\n",
    "double_char(\"1234!_ \") ➞ \"11223344!!__  \"\n",
    "\n"
   ]
  },
  {
   "cell_type": "code",
   "execution_count": 34,
   "id": "c657dda4",
   "metadata": {},
   "outputs": [
    {
     "name": "stdout",
     "output_type": "stream",
     "text": [
      "11223344!!__None\n",
      "SSttrriinnggNone\n",
      "HHeellllooWWoorrlldd!!None\n"
     ]
    }
   ],
   "source": [
    "def double_char(strn):\n",
    "        for i in strn:\n",
    "            if i==' ':\n",
    "                strn=strn.replace(' ','')\n",
    "        for i in strn:\n",
    "            print(i*2,end='')\n",
    "print(double_char(\"1234!_ \"))\n",
    "print(double_char(\"String\"))\n",
    "print(double_char(\"Hello World!\"))"
   ]
  },
  {
   "cell_type": "raw",
   "id": "fb276e2a",
   "metadata": {},
   "source": [
    "Question2\n",
    "Create a function that reverses a boolean value and returns the string \"boolean expected\" if another variable type is given.\n",
    "Examples\n",
    "reverse(True) ➞ False\n",
    "\n",
    "reverse(False) ➞ True\n",
    "\n",
    "reverse(0) ➞ \"boolean expected\"\n",
    "\n",
    "reverse(None) ➞ \"boolean expected\n"
   ]
  },
  {
   "cell_type": "code",
   "execution_count": 48,
   "id": "8ed0af9c",
   "metadata": {},
   "outputs": [
    {
     "name": "stdout",
     "output_type": "stream",
     "text": [
      "False\n",
      "True\n",
      "Boolean expected\n",
      "Boolean expected\n"
     ]
    }
   ],
   "source": [
    "def reverse(a):\n",
    "    if type(a)==bool:\n",
    "        if a==True:\n",
    "            return False\n",
    "        elif a== False:\n",
    "            return True\n",
    "        else:\n",
    "            return \"Boolean expected\"\n",
    "    else:\n",
    "         return \"Boolean expected\"\n",
    "print(reverse(True)) \n",
    "print(reverse(False))\n",
    "print(reverse(0))\n",
    "print(reverse(None))"
   ]
  },
  {
   "cell_type": "raw",
   "id": "221d1d5c",
   "metadata": {},
   "source": [
    "Question3\n",
    "Create a function that returns the thickness (in meters) of a piece of paper after folding it n number of times. The paper starts off with a thickness of 0.5mm.\n",
    "Examples\n",
    "num_layers(1) ➞ \"0.001m\"\n",
    "# Paper folded once is 1mm (equal to 0.001m)\n",
    "\n",
    "num_layers(4) ➞ \"0.008m\"\n",
    "# Paper folded 4 times is 8mm (equal to 0.008m)\n",
    "\n",
    "num_layers(21) ➞ \"1048.576m\"\n",
    "# Paper folded 21 times is 1048576mm (equal to 1048.576m)\n",
    "\n"
   ]
  },
  {
   "cell_type": "code",
   "execution_count": 72,
   "id": "d12fac11",
   "metadata": {},
   "outputs": [
    {
     "name": "stdout",
     "output_type": "stream",
     "text": [
      "(0.5, 'mm is eqal to', 0.0005, 'm')\n",
      "(2.0, 'mm is eqal to', 0.002, 'm')\n",
      "(10.5, 'mm is eqal to', 0.0105, 'm')\n"
     ]
    }
   ],
   "source": [
    "def num_layers(n):\n",
    "    paper_thick=0.5\n",
    "    number_folds=n\n",
    "    paper_meters=(paper_thick)*(number_folds )\n",
    "    return paper_meters,\"mm is eqal to\", paper_meters/1000 ,\"m\"\n",
    "print(num_layers(1))\n",
    "print(num_layers(4))\n",
    "print(num_layers(21) )"
   ]
  },
  {
   "cell_type": "raw",
   "id": "e3b8dac6",
   "metadata": {},
   "source": [
    "Question4\n",
    "Create a function that takes a single string as argument and returns an ordered list containing the indices of all capital letters in the string.\n",
    "Examples\n",
    "index_of_caps(\"eDaBiT\") ➞ [1, 3, 5]\n",
    "\n",
    "index_of_caps(\"eQuINoX\") ➞ [1, 3, 4, 6]\n",
    "\n",
    "index_of_caps(\"determine\") ➞ []\n",
    "\n",
    "index_of_caps(\"STRIKE\") ➞ [0, 1, 2, 3, 4, 5]\n",
    "\n",
    "index_of_caps(\"sUn\") ➞ [1]\n"
   ]
  },
  {
   "cell_type": "code",
   "execution_count": 99,
   "id": "7fc2fb24",
   "metadata": {},
   "outputs": [
    {
     "name": "stdout",
     "output_type": "stream",
     "text": [
      "None\n",
      "[]\n",
      "[0, 1, 2, 3, 4, 5]\n",
      "[1]\n",
      "[1, 3, 5]\n"
     ]
    }
   ],
   "source": [
    "def index_of_caps(s):\n",
    "    list1=[]\n",
    "    for i in s:\n",
    "        list1.append(i)\n",
    "    list2=[]\n",
    "    for i in list1:\n",
    "        if i.isupper():\n",
    "            g=list1.index(i)\n",
    "            list2.append(g)\n",
    "    return list2\n",
    "index_of_caps(\"eDaBiT\")\n",
    "\n",
    "#another way\n",
    "def index_of_caps1(n):\n",
    "    list3=[]\n",
    "    for i in n:\n",
    "        if i.isupper():\n",
    "            return list3.append(i)\n",
    "print(index_of_caps1(\"eQuINoX\"))\n",
    "print(index_of_caps(\"determine\"))\n",
    "print(index_of_caps(\"STRIKE\"))\n",
    "print(index_of_caps(\"sUn\"))\n",
    "print(index_of_caps(\"eDaBiT\"))\n",
    "            \n",
    "            "
   ]
  },
  {
   "cell_type": "raw",
   "id": "31bea974",
   "metadata": {},
   "source": [
    "Using list comprehensions, create a function that finds all even numbers from 1 to the given number.\n",
    "Examples\n",
    "find_even_nums(8) ➞ [2, 4, 6, 8]\n",
    "\n",
    "find_even_nums(4) ➞ [2, 4]\n",
    "\n",
    "find_even_nums(2) ➞ [2]\n"
   ]
  },
  {
   "cell_type": "code",
   "execution_count": 106,
   "id": "c433e629",
   "metadata": {},
   "outputs": [
    {
     "name": "stdout",
     "output_type": "stream",
     "text": [
      "[2, 4]\n",
      "[2, 4, 6, 8]\n",
      "[2]\n"
     ]
    }
   ],
   "source": [
    "def find_even_nums(n):\n",
    "    result=[i  for i in range(1,n+1) if i%2==0]\n",
    "    return result\n",
    "print(find_even_nums(4))\n",
    "print(find_even_nums(8))\n",
    "print(find_even_nums(2))\n"
   ]
  },
  {
   "cell_type": "code",
   "execution_count": null,
   "id": "bf635f02",
   "metadata": {},
   "outputs": [],
   "source": []
  }
 ],
 "metadata": {
  "kernelspec": {
   "display_name": "Python 3 (ipykernel)",
   "language": "python",
   "name": "python3"
  },
  "language_info": {
   "codemirror_mode": {
    "name": "ipython",
    "version": 3
   },
   "file_extension": ".py",
   "mimetype": "text/x-python",
   "name": "python",
   "nbconvert_exporter": "python",
   "pygments_lexer": "ipython3",
   "version": "3.9.7"
  }
 },
 "nbformat": 4,
 "nbformat_minor": 5
}
