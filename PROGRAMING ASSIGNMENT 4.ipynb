{
 "cells": [
  {
   "cell_type": "raw",
   "id": "354a1727",
   "metadata": {},
   "source": [
    "1.Write a Python Program to Find the Factorial of a Number?"
   ]
  },
  {
   "cell_type": "code",
   "execution_count": 10,
   "id": "88392a3e",
   "metadata": {},
   "outputs": [
    {
     "name": "stdout",
     "output_type": "stream",
     "text": [
      "Enter your number to find factorial: 7\n",
      "The factorial of given number 7 is 5040\n"
     ]
    }
   ],
   "source": [
    "n=int(input('Enter your number to find factorial: '))\n",
    "factorial=1\n",
    "if n==0 or n==1:\n",
    "    print(\"the factorial for given numer\",n, \"is \",1)\n",
    "elif n>1:\n",
    "    for i in range(1,n+1):\n",
    "        factorial=factorial*i\n",
    "    print(\"The factorial of given number\" ,n,\"is\",factorial)\n",
    "else:\n",
    "    print(\"please enter positive number only\")"
   ]
  },
  {
   "cell_type": "raw",
   "id": "702a4e04",
   "metadata": {},
   "source": [
    "2.Write a Python Program to Display the multiplication Table?"
   ]
  },
  {
   "cell_type": "code",
   "execution_count": 62,
   "id": "1e6e3688",
   "metadata": {},
   "outputs": [
    {
     "name": "stdout",
     "output_type": "stream",
     "text": [
      "enter a number for multiplication table: 7\n",
      "7 * 1 = 7\n",
      "7 * 2 = 14\n",
      "7 * 3 = 21\n",
      "7 * 4 = 28\n",
      "7 * 5 = 35\n",
      "7 * 6 = 42\n",
      "7 * 7 = 49\n",
      "7 * 8 = 56\n",
      "7 * 9 = 63\n",
      "7 * 10 = 70\n"
     ]
    }
   ],
   "source": [
    "number=int(input('enter a number for multiplication table: '))\n",
    "for i in range(1,11):\n",
    "    print(number,'*',i,'=',number*i)"
   ]
  },
  {
   "cell_type": "raw",
   "id": "7127cf61",
   "metadata": {},
   "source": [
    "3.Write a Python Program to Print the Fibonacci sequence?"
   ]
  },
  {
   "cell_type": "code",
   "execution_count": 23,
   "id": "172e7467",
   "metadata": {},
   "outputs": [
    {
     "name": "stdout",
     "output_type": "stream",
     "text": [
      "enter first number: 0\n",
      "enter second number: 1\n",
      "till how many numbers you want: 15\n",
      "1,2,3,5,8,13,21,34,55,89,144,233,377,610,"
     ]
    }
   ],
   "source": [
    "a=int(input('enter first number to perform fibonacci series : '))\n",
    "b=int(input(\"enter second number to perform fibonacci series : \"))\n",
    "n =int(input(\"till how many numbers you want to perform fibonacci series: \"))\n",
    "for i in range(1,n):\n",
    "    a,b=b,a+b\n",
    "    print(b, end=',')\n",
    "    "
   ]
  },
  {
   "cell_type": "raw",
   "id": "5504c874",
   "metadata": {},
   "source": [
    "4.Write a Python Program to Check Armstrong Number?"
   ]
  },
  {
   "cell_type": "code",
   "execution_count": 46,
   "id": "717ae787",
   "metadata": {},
   "outputs": [
    {
     "name": "stdout",
     "output_type": "stream",
     "text": [
      "enter your number: 371\n",
      "371 is an armstrong number\n"
     ]
    }
   ],
   "source": [
    "num=int(input(\"enter your number: \"))\n",
    "order=len(str(num))\n",
    "sum=0\n",
    "temp=num\n",
    "while temp>0:\n",
    "    digit = temp%10\n",
    "    sum += digit ** order\n",
    "    temp //= 10         # here incrementing order of number\n",
    "if num == sum:\n",
    "    print(num,\"is an armstrong number\")\n",
    "else:\n",
    "    print(num, \"is not an armstrong number\")"
   ]
  },
  {
   "cell_type": "raw",
   "id": "4dcadee4",
   "metadata": {},
   "source": [
    "5.Write a Python Program to Find Armstrong Number in an Interval?"
   ]
  },
  {
   "cell_type": "code",
   "execution_count": 58,
   "id": "43d70a0d",
   "metadata": {},
   "outputs": [
    {
     "name": "stdout",
     "output_type": "stream",
     "text": [
      "your staring point number: 100\n",
      "your end point number: 1000\n",
      "153 it is a arm strong number\n",
      "370 it is a arm strong number\n",
      "371 it is a arm strong number\n",
      "407 it is a arm strong number\n"
     ]
    }
   ],
   "source": [
    "start_point=int(input(\"your staring point number: \"))\n",
    "end_point=int(input('your end point number: '))\n",
    "for i in range(start_point,end_point+1):\n",
    "    order=len(str(i))\n",
    "    if order == 1:\n",
    "        continue\n",
    "    sum=0\n",
    "    temp=i\n",
    "    while temp>0:\n",
    "        digit = temp%10\n",
    "        sum += digit ** order\n",
    "        temp //= 10\n",
    "    if i==sum:\n",
    "        print(i,\"it is a arm strong number\")"
   ]
  },
  {
   "cell_type": "raw",
   "id": "8bcb80bc",
   "metadata": {},
   "source": [
    "6.Write a Python Program to Find the Sum of Natural Numbers?"
   ]
  },
  {
   "cell_type": "code",
   "execution_count": 61,
   "id": "0a9268ff",
   "metadata": {},
   "outputs": [
    {
     "name": "stdout",
     "output_type": "stream",
     "text": [
      "enter your starting point: 1\n",
      "enter your end point number: 100\n",
      "5050\n"
     ]
    }
   ],
   "source": [
    "start_point=int(input(\"enter your starting point: \"))\n",
    "end_point=int(input(\"enter your end point number: \"))\n",
    "sum=0\n",
    "for i in range(start_point,end_point+1):\n",
    "    sum=sum+i\n",
    "print(sum)"
   ]
  },
  {
   "cell_type": "code",
   "execution_count": null,
   "id": "bb0ff026",
   "metadata": {},
   "outputs": [],
   "source": []
  }
 ],
 "metadata": {
  "kernelspec": {
   "display_name": "Python 3 (ipykernel)",
   "language": "python",
   "name": "python3"
  },
  "language_info": {
   "codemirror_mode": {
    "name": "ipython",
    "version": 3
   },
   "file_extension": ".py",
   "mimetype": "text/x-python",
   "name": "python",
   "nbconvert_exporter": "python",
   "pygments_lexer": "ipython3",
   "version": "3.9.7"
  }
 },
 "nbformat": 4,
 "nbformat_minor": 5
}
